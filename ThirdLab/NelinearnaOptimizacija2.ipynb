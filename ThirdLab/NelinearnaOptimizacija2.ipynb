{
 "cells": [
  {
   "cell_type": "code",
   "execution_count": 2,
   "metadata": {},
   "outputs": [],
   "source": [
    "import math\n",
    "import numpy as np \n",
    "from random import randint\n",
    "import nelinOpt as no\n",
    "from Matrica import Matrica, JedinicnaMatrica\n"
   ]
  },
  {
   "cell_type": "markdown",
   "metadata": {},
   "source": [
    "## Box"
   ]
  },
  {
   "cell_type": "code",
   "execution_count": 3,
   "metadata": {},
   "outputs": [],
   "source": [
    "def box(x0, xd, xg, func, ogranicenja, alfa=2.0, epsilon=1e-6, ispis=False):\n",
    "\n",
    "    for i in range(x0.br_stup):\n",
    "        if not (x0[0][i] >= xd and x0[0][i] <= xg): \n",
    "            raise Exception(\"Pocetna tocka je krivo zadana. Ne postuje eksplicitna ogranicenja.\")\n",
    "            return\n",
    "    if not provjeri(x0, ogranicenja): \n",
    "            raise Exception(\"Pocetna tocka je krivo zadana. Ne postuje implicitna ogranicenja.\")\n",
    "            return\n",
    "    \n",
    "    n = x0.br_stup\n",
    "    xc = x0.copy()\n",
    "    tocke = [x0]\n",
    "\n",
    "    #generiranje skupa 2n tocaka\n",
    "    for t in range(2*n):\n",
    "        xi = []\n",
    "        for i in range(n):\n",
    "            r = randint(0, 1)\n",
    "            xi.append(xd + r * (xg - xd))\n",
    "        tocke.append(Matrica(1, n, [xi]))\n",
    "        while True:\n",
    "            if provjeri(tocke[t], ogranicenja): break\n",
    "            tocke[t] = 0.5 * (tocke[t] + xc)\n",
    "\n",
    "        #novi centroid\n",
    "        xc = centroid(tocke, n)\n",
    "\n",
    "    # print(\"xc: \", xc, \"tocke: \")\n",
    "    # for t in tocke: print(t)\n",
    "    \n",
    "    cnt = 0\n",
    "    fxc_tmp = func.vrijednost(xc)\n",
    "    \n",
    "    while True:\n",
    "        #pronalazak h i h2\n",
    "        h = no.index_max(tocke, func, ispis)\n",
    "\n",
    "        tocke_bez_h = tocke.copy()\n",
    "        tocke_bez_h.pop(h)\n",
    "\n",
    "        h2 = no.index_max(tocke_bez_h, func, ispis)\n",
    "        xc = centroid(tocke_bez_h, n)\n",
    "\n",
    "        xr = (1 + alfa) * xc - alfa * tocke[h]\n",
    "\n",
    "        for i in range(n):\n",
    "            if xr[0][i] < xd: xr[0][i] = xd\n",
    "            if xr[0][i] > xg: xr[0][i] = xg\n",
    "        \n",
    "        while True:\n",
    "            if provjeri(xr, ogranicenja): break\n",
    "            xr = 0.5 * (xr + xc)\n",
    "        \n",
    "        if func.vrijednost(xr) > func.vrijednost(tocke[h2]):\n",
    "            xr = 0.5 * (xr + xc)\n",
    "        \n",
    "        tocke[h] = xr \n",
    "        if uvjet_zaustavljanja(tocke[h], xc, epsilon): \n",
    "            print(\"Broj iteracija: \", func.br_poziva)\n",
    "            return xc    \n",
    "\n",
    "\n",
    "        fxc = func.vrijednost(xc)\n",
    "        if fxc != fxc_tmp:\n",
    "            cnt = 0\n",
    "        else:\n",
    "            cnt += 1\n",
    "        if cnt >= 100:\n",
    "            print(\"Ne konvergira.\")\n",
    "            print(\"Broj iteracija: \", func.br_poziva)\n",
    "            return xc\n",
    "        fxc_tmp = fxc\n",
    "        \n",
    "\n",
    "        \n",
    "def provjeri(x, ogranicenja):\n",
    "    for o in ogranicenja:\n",
    "        if o(x) < 0: return False\n",
    "    return True\n",
    "\n",
    "def centroid(tocke, n):\n",
    "    xc = Matrica(1, n)\n",
    "    for xi in tocke:\n",
    "        xc += xi\n",
    "    for i in range(n):\n",
    "        xc[0][i] /= len(tocke) \n",
    "    return xc\n",
    "\n",
    "def uvjet_zaustavljanja(xh, xc, e):\n",
    "    for i in range(xh.br_stup):\n",
    "        if abs(xh[0][i] - xc[0][i]) < e: return True\n",
    "    return False"
   ]
  },
  {
   "cell_type": "markdown",
   "metadata": {},
   "source": [
    "## Transformacija u problem bez ogranicenja na mjesoviti nacin"
   ]
  },
  {
   "cell_type": "code",
   "execution_count": 4,
   "metadata": {},
   "outputs": [],
   "source": [
    "\n",
    "\n",
    "def transformacija(x0, func, ogranicenja, ogr_jednakosti=None, t=1., epsilon=1e-6):\n",
    "    x = x0.copy()\n",
    "    transformirana_fja = Transformirana_fja(func, ogranicenja, ogr_jednakosti, t, epsilon)\n",
    "    while True:\n",
    "        # print(x)\n",
    "        optimized_value = no.hooke_jeeves(x, transformirana_fja)\n",
    "        # print(\"optimized value: \", optimized_value)\n",
    "        transformirana_fja.t *= 10\n",
    "\n",
    "        if uvjet_zaustavljanja_transf(x, optimized_value, epsilon):\n",
    "            trenutni_t = transformirana_fja.t\n",
    "            cnt = int(math.log10(t)) + 1\n",
    "            return optimized_value\n",
    "\n",
    "        x = optimized_value\n",
    "\n",
    "def uvjet_zaustavljanja_transf(x, optimized_value, epsilon=1e-6):\n",
    "    for i in range(x.br_stup):\n",
    "        if abs(x[0][i] - optimized_value[0][i]) > epsilon:\n",
    "            return False\n",
    "    return True\n",
    "\n",
    "class Transformirana_fja:\n",
    "\n",
    "    def __init__(self, func, ogranicenja, ogr_jednakosti, t=1.0, epsilon=1e-6):\n",
    "        self.func = func\n",
    "        self.ogranicenja = ogranicenja\n",
    "        self.ogr_jednakosti = ogr_jednakosti\n",
    "        self.t = t\n",
    "        self.epsilon = epsilon \n",
    "    \n",
    "    def vrijednost(self, x0):\n",
    "        x = x0.copy()\n",
    "        fx = self.func.vrijednost(x)\n",
    "        \n",
    "        # ogranicenja nejednakosti\n",
    "        gx = 0\n",
    "        for o in self.ogranicenja:\n",
    "            # print(o)\n",
    "            ox = o(x)\n",
    "            if ox <= 0: return 1234567890\n",
    "            else:\n",
    "                # print(\"ox: \", ox) \n",
    "                gx += math.log(ox)\n",
    "        gx /= self.t\n",
    "        \n",
    "        #ogranicenja jednakosti\n",
    "        if self.ogr_jednakosti != None:\n",
    "            hx = self.t * (x[0][1] - 1)**2\n",
    "        else: \n",
    "            hx = 0\n",
    "        \n",
    "        # print(fx, hx, fx - gx + hx)\n",
    "\n",
    "        return fx - gx + hx \n"
   ]
  },
  {
   "cell_type": "markdown",
   "metadata": {},
   "source": [
    "## Newton-Raphson"
   ]
  },
  {
   "cell_type": "code",
   "execution_count": 5,
   "metadata": {},
   "outputs": [],
   "source": [
    "def newton_raphson(x0, func, grad, hess, zl_rez=False, epsilon=1e-6, ispis=False):\n",
    "    n = x0.br_stup\n",
    "    x = x0.copy()\n",
    "    cnt = 0\n",
    "    f_tmp = func.vrijednost(x)\n",
    "\n",
    "    while True:\n",
    "        gradijent = Matrica(1, n, [grad.vrijednost(x)])\n",
    "        if ispis: print(\"gradijent: \", gradijent)\n",
    "        hessian = Matrica(1, n, hess.vrijednost(x))\n",
    "        if ispis: print(\"hessian: \", hessian)\n",
    "        v = hessian * (gradijent.transponiraj())\n",
    "\n",
    "        if norm(v) <= epsilon:\n",
    "            break\n",
    "\n",
    "        if cnt >= 100:\n",
    "            print(\"Ne konvergira.\")\n",
    "            print(\"Broj iteracija: \", func.br_poziva)\n",
    "            print(\"Broj poziva gradijentne fje: \", grad.br_poziva)\n",
    "            print(\"Broj izracuna Hessove matrice: \", hess.br_poziva)\n",
    "            return x\n",
    "\n",
    "        if zl_rez:\n",
    "            l_func = no.Funkcija(lambda l: func.vrijednost(x + l * gradijent))\n",
    "            faktor = no.minimum(Matrica(1, 1, [[0.]]), l_func, gradijent, ispis)\n",
    "        else:\n",
    "            faktor = -1\n",
    "        \n",
    "        x += faktor * gradijent\n",
    "        fx = func.vrijednost(x)\n",
    "\n",
    "        if fx != f_tmp: cnt=0\n",
    "        else: cnt += 1\n",
    "        f_tmp = fx\n",
    "\n",
    "    print(\"Broj iteracija: \", func.br_poziva)\n",
    "    print(\"Broj poziva gradijentne fje: \", grad.br_poziva)\n",
    "    print(\"Broj izracuna Hessove matrice: \", hess.br_poziva)\n",
    "    return x"
   ]
  },
  {
   "cell_type": "markdown",
   "metadata": {},
   "source": [
    "## Gradijentni spust"
   ]
  },
  {
   "cell_type": "code",
   "execution_count": 6,
   "metadata": {},
   "outputs": [],
   "source": [
    "def grad_desc(x0, func, grad, zl_rez=False, epsilon=1e-6, ispis=False):\n",
    "    n = x0.br_stup\n",
    "    x = x0.copy()\n",
    "    cnt = 0\n",
    "    f_tmp = func.vrijednost(x)\n",
    "\n",
    "    while True:\n",
    "        gradijent = Matrica(1, n, [grad.vrijednost(x)])\n",
    "        if norm(gradijent) < epsilon: \n",
    "            print(\"Broj iteracija: \", func.br_poziva)\n",
    "            print(\"Broj poziva gradijentne fje: \", grad.br_poziva)\n",
    "            break\n",
    "\n",
    "        if cnt >= 100:\n",
    "            print(\"Ne konvergira.\")\n",
    "            print(\"Broj iteracija: \", func.br_poziva)\n",
    "            print(\"Broj poziva gradijentne fje: \", grad.br_poziva)\n",
    "            return x\n",
    "        \n",
    "        if zl_rez:\n",
    "            l_func = no.Funkcija(lambda l: func.vrijednost(x + l * gradijent))\n",
    "            faktor = no.minimum(Matrica(1, 1, [[0.]]), l_func, gradijent, ispis)\n",
    "        else:\n",
    "            faktor = -1\n",
    "    \n",
    "        x += faktor * gradijent\n",
    "        fx = func.vrijednost(x)\n",
    "\n",
    "        # print(\"cnt1: \", cnt)\n",
    "        if fx != f_tmp: cnt=0\n",
    "        else: cnt += 1\n",
    "        # print(\"cnt2: \", cnt)\n",
    "        f_tmp = fx \n",
    "\n",
    "    return x\n",
    "\n",
    "\n",
    "def norm(x):\n",
    "    squared = [xi**2 for xi in x[0]]\n",
    "    sum_of_squares = sum(squared)\n",
    "    return math.sqrt(sum_of_squares)\n"
   ]
  },
  {
   "cell_type": "markdown",
   "metadata": {},
   "source": [
    "## Zadatci"
   ]
  },
  {
   "cell_type": "markdown",
   "metadata": {},
   "source": [
    "1. Primijenite postupak gradijentnog spusta na funkciju 3, uz i bez određivanja optimalnog iznosa\n",
    "koraka. Što možete zaključiti iz rezultata? "
   ]
  },
  {
   "cell_type": "code",
   "execution_count": 7,
   "metadata": {
    "tags": []
   },
   "outputs": [
    {
     "ename": "AttributeError",
     "evalue": "'function' object has no attribute 'vrijednost'",
     "output_type": "error",
     "traceback": [
      "\u001b[0;31m---------------------------------------------------------------------------\u001b[0m",
      "\u001b[0;31mAttributeError\u001b[0m                            Traceback (most recent call last)",
      "\u001b[0;32m<ipython-input-7-27a791f3ea70>\u001b[0m in \u001b[0;36m<module>\u001b[0;34m\u001b[0m\n\u001b[1;32m      1\u001b[0m \u001b[0mx0\u001b[0m \u001b[0;34m=\u001b[0m \u001b[0mMatrica\u001b[0m\u001b[0;34m(\u001b[0m\u001b[0;36m1\u001b[0m\u001b[0;34m,\u001b[0m \u001b[0;36m2\u001b[0m\u001b[0;34m,\u001b[0m \u001b[0;34m[\u001b[0m\u001b[0;34m[\u001b[0m\u001b[0;36m0\u001b[0m\u001b[0;34m,\u001b[0m \u001b[0;36m0\u001b[0m\u001b[0;34m]\u001b[0m\u001b[0;34m]\u001b[0m\u001b[0;34m)\u001b[0m\u001b[0;34m\u001b[0m\u001b[0;34m\u001b[0m\u001b[0m\n\u001b[0;32m----> 2\u001b[0;31m \u001b[0mprint\u001b[0m\u001b[0;34m(\u001b[0m\u001b[0mgrad_desc\u001b[0m\u001b[0;34m(\u001b[0m\u001b[0mx0\u001b[0m\u001b[0;34m,\u001b[0m \u001b[0mno\u001b[0m\u001b[0;34m.\u001b[0m\u001b[0mFunkcija\u001b[0m\u001b[0;34m(\u001b[0m\u001b[0mno\u001b[0m\u001b[0;34m.\u001b[0m\u001b[0mf3\u001b[0m\u001b[0;34m)\u001b[0m\u001b[0;34m,\u001b[0m \u001b[0mno\u001b[0m\u001b[0;34m.\u001b[0m\u001b[0mgf3\u001b[0m\u001b[0;34m,\u001b[0m \u001b[0mzl_rez\u001b[0m\u001b[0;34m=\u001b[0m\u001b[0;32mFalse\u001b[0m\u001b[0;34m)\u001b[0m\u001b[0;34m)\u001b[0m\u001b[0;34m\u001b[0m\u001b[0;34m\u001b[0m\u001b[0m\n\u001b[0m\u001b[1;32m      3\u001b[0m \u001b[0mprint\u001b[0m\u001b[0;34m(\u001b[0m\u001b[0;34m)\u001b[0m\u001b[0;34m\u001b[0m\u001b[0;34m\u001b[0m\u001b[0m\n\u001b[1;32m      4\u001b[0m \u001b[0mprint\u001b[0m\u001b[0;34m(\u001b[0m\u001b[0mgrad_desc\u001b[0m\u001b[0;34m(\u001b[0m\u001b[0mx0\u001b[0m\u001b[0;34m,\u001b[0m \u001b[0mno\u001b[0m\u001b[0;34m.\u001b[0m\u001b[0mFunkcija\u001b[0m\u001b[0;34m(\u001b[0m\u001b[0mno\u001b[0m\u001b[0;34m.\u001b[0m\u001b[0mf3\u001b[0m\u001b[0;34m)\u001b[0m\u001b[0;34m,\u001b[0m \u001b[0mno\u001b[0m\u001b[0;34m.\u001b[0m\u001b[0mgf3\u001b[0m\u001b[0;34m,\u001b[0m \u001b[0mzl_rez\u001b[0m\u001b[0;34m=\u001b[0m\u001b[0;32mTrue\u001b[0m\u001b[0;34m)\u001b[0m\u001b[0;34m)\u001b[0m\u001b[0;34m\u001b[0m\u001b[0;34m\u001b[0m\u001b[0m\n",
      "\u001b[0;32m<ipython-input-6-1c6eb5821afc>\u001b[0m in \u001b[0;36mgrad_desc\u001b[0;34m(x0, func, grad, zl_rez, epsilon, ispis)\u001b[0m\n\u001b[1;32m      6\u001b[0m \u001b[0;34m\u001b[0m\u001b[0m\n\u001b[1;32m      7\u001b[0m     \u001b[0;32mwhile\u001b[0m \u001b[0;32mTrue\u001b[0m\u001b[0;34m:\u001b[0m\u001b[0;34m\u001b[0m\u001b[0;34m\u001b[0m\u001b[0m\n\u001b[0;32m----> 8\u001b[0;31m         \u001b[0mgradijent\u001b[0m \u001b[0;34m=\u001b[0m \u001b[0mMatrica\u001b[0m\u001b[0;34m(\u001b[0m\u001b[0;36m1\u001b[0m\u001b[0;34m,\u001b[0m \u001b[0mn\u001b[0m\u001b[0;34m,\u001b[0m \u001b[0;34m[\u001b[0m\u001b[0mgrad\u001b[0m\u001b[0;34m.\u001b[0m\u001b[0mvrijednost\u001b[0m\u001b[0;34m(\u001b[0m\u001b[0mx\u001b[0m\u001b[0;34m)\u001b[0m\u001b[0;34m]\u001b[0m\u001b[0;34m)\u001b[0m\u001b[0;34m\u001b[0m\u001b[0;34m\u001b[0m\u001b[0m\n\u001b[0m\u001b[1;32m      9\u001b[0m         \u001b[0;32mif\u001b[0m \u001b[0mnorm\u001b[0m\u001b[0;34m(\u001b[0m\u001b[0mgradijent\u001b[0m\u001b[0;34m)\u001b[0m \u001b[0;34m<\u001b[0m \u001b[0mepsilon\u001b[0m\u001b[0;34m:\u001b[0m\u001b[0;34m\u001b[0m\u001b[0;34m\u001b[0m\u001b[0m\n\u001b[1;32m     10\u001b[0m             \u001b[0mprint\u001b[0m\u001b[0;34m(\u001b[0m\u001b[0;34m\"Broj iteracija: \"\u001b[0m\u001b[0;34m,\u001b[0m \u001b[0mfunc\u001b[0m\u001b[0;34m.\u001b[0m\u001b[0mbr_poziva\u001b[0m\u001b[0;34m)\u001b[0m\u001b[0;34m\u001b[0m\u001b[0;34m\u001b[0m\u001b[0m\n",
      "\u001b[0;31mAttributeError\u001b[0m: 'function' object has no attribute 'vrijednost'"
     ]
    }
   ],
   "source": [
    "x0 = Matrica(1, 2, [[0, 0]])\n",
    "print(grad_desc(x0, no.Funkcija(no.f3), no.gf3, zl_rez=False))\n",
    "print()\n",
    "print(grad_desc(x0, no.Funkcija(no.f3), no.gf3, zl_rez=True))"
   ]
  },
  {
   "cell_type": "markdown",
   "metadata": {},
   "source": [
    "2. Primijenite postupak gradijentnog spusta i Newton-Raphsonov postupak na funkcije 1 i 2 s\n",
    "određivanjem optimalnog iznosa koraka. Kako se Newton-Raphsonov postupak ponaša na ovim\n",
    "funkcijama? Ispišite broj izračuna funkcije, gradijenta i Hesseove matrice. "
   ]
  },
  {
   "cell_type": "code",
   "execution_count": 8,
   "metadata": {
    "tags": []
   },
   "outputs": [
    {
     "name": "stdout",
     "output_type": "stream",
     "text": [
      "Ne konvergira.\n",
      "Broj iteracija:  150821\n",
      "Broj poziva gradijentne fje:  4077\n",
      "[[1.00000348 1.00000697]] \n",
      "\n",
      "Ne konvergira.\n",
      "Broj iteracija:  150821\n",
      "Broj poziva gradijentne fje:  4077\n",
      "Broj izracuna Hessove matrice:  4077\n",
      "[[1.00000348 1.00000697]] \n",
      "\n",
      "Broj iteracija:  1000\n",
      "Broj poziva gradijentne fje:  28\n",
      "[[3.99999967 2.00000005]] \n",
      "\n",
      "Ne konvergira.\n",
      "Broj iteracija:  283\n",
      "Broj poziva gradijentne fje:  283\n",
      "Broj izracuna Hessove matrice:  283\n",
      "[[ 1.00000000e-001 -3.53261416e+238]]\n"
     ]
    },
    {
     "name": "stderr",
     "output_type": "stream",
     "text": [
      "/Users/dunjaacimovic/Code/APR/ThirdLab/0036494961/nelinOpt.py:401: RuntimeWarning: overflow encountered in double_scalars\n",
      "  return (x[0] - 4)**2 + 4 * (x[1] - 2)**2\n"
     ]
    }
   ],
   "source": [
    "x1 = Matrica(1, 2, [[-1.9, 2]])\n",
    "print(grad_desc(x1, no.Funkcija(no.f1), no.Funkcija(no.gf1), zl_rez=True), \"\\n\")\n",
    "print(newton_raphson(x1, no.Funkcija(no.f1), no.Funkcija(no.gf1), no.Funkcija(no.hf1), zl_rez=True), \"\\n\")\n",
    "\n",
    "x2 = Matrica(1, 2, [[0.1, 0.3]])\n",
    "print(grad_desc(x2, no.Funkcija(no.f2), no.Funkcija(no.gf2), zl_rez=True), \"\\n\")\n",
    "print(newton_raphson(x2, no.Funkcija(no.f2), no.Funkcija(no.gf2), no.Funkcija(no.hf2), zl_rez=False))\n"
   ]
  },
  {
   "cell_type": "markdown",
   "metadata": {},
   "source": [
    "3. Primijenite postupak po Boxu na funkcije 1 i 2 uz implicitna ograničenja: (x2-x1 >= 0), (2-x1 >= 0) i\n",
    "eksplicitna ograničenja prema kojima su sve varijable u intervalu [-100, 100]. Mijenja li se položaj\n",
    "optimuma uz nametnuta ograničenja?"
   ]
  },
  {
   "cell_type": "code",
   "execution_count": 7,
   "metadata": {
    "tags": []
   },
   "outputs": [
    {
     "name": "stdout",
     "output_type": "stream",
     "text": [
      "Ne konvergira.\n",
      "Broj iteracija:  2458\n",
      "[[0.18091964 3.06077117]]\n",
      "Broj iteracija:  1617\n",
      "[[1.99999877 2.00216542]]\n"
     ]
    }
   ],
   "source": [
    "x1 = Matrica(1, 2, [[-1.9, 2]])\n",
    "x2 = Matrica(1, 2, [[0.1, 0.3]])\n",
    "\n",
    "print(box(x1, -100, 100, no.Funkcija(no.f1), [no.o1, no.o2, no.o31, no.o32, no.o41, no.o42]))\n",
    "print(box(x2, -100, 100, no.Funkcija(no.f2), [no.o1, no.o2, no.o31, no.o32, no.o41, no.o42]))"
   ]
  },
  {
   "cell_type": "markdown",
   "metadata": {},
   "source": [
    "4. Primijenite postupak transformacije u problem bez ograničenja na funkcije 1 i 2 s ograničenjima iz\n",
    "prethodnog zadatka (zanemarite eksplicitna ograničenja). Novodobiveni problem optimizacije bez\n",
    "ograničenja minimizirajte koristeći postupak Hooke-Jeeves ili postupak simpleksa po Nelderu i\n",
    "Meadu. Može li se uz zadanu početnu točku pronaći optimalno rješenje problema s ograničenjima?\n",
    "Ako ne, probajte odabrati početnu točku iz koje je moguće pronaći rješenje. "
   ]
  },
  {
   "cell_type": "code",
   "execution_count": 33,
   "metadata": {},
   "outputs": [
    {
     "name": "stdout",
     "output_type": "stream",
     "text": [
      "[[0.01019058 0.01019096]]\n",
      "Broj poziva f1:  2235\n",
      "[[1.99999962 2.00000076]]\n",
      "Broj poziva f2:  2812\n"
     ]
    }
   ],
   "source": [
    "x1 = Matrica(1, 2, [[-1.9, 2]])\n",
    "x2 = Matrica(1, 2, [[0.1, 0.3]])\n",
    "\n",
    "func1 = no.Funkcija(no.f1)\n",
    "func2 = no.Funkcija(no.f2)\n",
    "\n",
    "print(transformacija(x1, func1, [no.o1, no.o2, no.o31, no.o32, no.o41, no.o42]))\n",
    "print(\"Broj poziva f1: \", func1.br_poziva)\n",
    "print(transformacija(x2, func2, [no.o1, no.o2, no.o31, no.o32, no.o41, no.o42]))\n",
    "print(\"Broj poziva f2: \", func2.br_poziva)"
   ]
  },
  {
   "cell_type": "markdown",
   "metadata": {},
   "source": [
    "5. Za funkciju 4 s ograničenjima (3-x1-x2>=0), (3+1.5*x1-x2>=0) i (x2-1=0) probajte pronaći\n",
    "minimum koristeći postupak transformacije u problem bez ograničenja (također koristite HookeJeeves ili postupak simpleksa po Nelderu i Meadu za minimizaciju). Probajte kao početnu točku\n",
    "postaviti neku točku koja ne zadovoljava ograničenja nejednakosti (primjerice točku (5,5)) te\n",
    "pomoću postupka pronalaženja unutarnje točke odredite drugu točku koja zadovoljava ograničenja\n",
    "nejednakosti te ju iskoristite kao početnu točku za postupak minimizacije. "
   ]
  },
  {
   "cell_type": "code",
   "execution_count": 46,
   "metadata": {},
   "outputs": [
    {
     "name": "stdout",
     "output_type": "stream",
     "text": [
      "[[2.00002289 0.9999752 ]]\n",
      "[[5. 5.]]\n"
     ]
    }
   ],
   "source": [
    "x4 = Matrica(1, 2, [[0, 0]])\n",
    "x5 = Matrica(1, 2, [[5, 5]])\n",
    "\n",
    "print(transformacija(x4, no.Funkcija(no.f4), [no.o5, no.o6], 1))\n",
    "print(transformacija(x5, no.Funkcija(no.f4), [no.o5, no.o6], 1))"
   ]
  },
  {
   "cell_type": "markdown",
   "metadata": {},
   "source": [
    "## Provjere"
   ]
  },
  {
   "cell_type": "code",
   "execution_count": 79,
   "metadata": {},
   "outputs": [
    {
     "name": "stdout",
     "output_type": "stream",
     "text": [
      "yes\n"
     ]
    }
   ],
   "source": [
    "hello = 1\n",
    "if hello != None: print(\"yes\")"
   ]
  },
  {
   "cell_type": "code",
   "execution_count": 30,
   "metadata": {},
   "outputs": [
    {
     "name": "stdout",
     "output_type": "stream",
     "text": [
      "10.0\n"
     ]
    }
   ],
   "source": [
    "tf = Transformirana_fja(3, 4, 5)\n",
    "tf.t *= 10\n",
    "print(tf.t)"
   ]
  },
  {
   "cell_type": "code",
   "execution_count": 24,
   "metadata": {},
   "outputs": [
    {
     "name": "stdout",
     "output_type": "stream",
     "text": [
      "1.0\n"
     ]
    }
   ],
   "source": [
    "p = 1.\n",
    "print(p)"
   ]
  },
  {
   "cell_type": "code",
   "execution_count": 22,
   "metadata": {},
   "outputs": [
    {
     "name": "stdout",
     "output_type": "stream",
     "text": [
      "__init__ elementi:  [[5, 6]]\n",
      "__init__ elementi:  [[3, 4]]\n",
      "[[13. 16.]]\n"
     ]
    },
    {
     "data": {
      "text/plain": [
       "7.810249675906654"
      ]
     },
     "execution_count": 22,
     "metadata": {},
     "output_type": "execute_result"
    }
   ],
   "source": [
    "g = [5, 6]\n",
    "d = Matrica(1, 2, [g])\n",
    "d1 = Matrica(1, 2, [[3, 4]])\n",
    "d1 += 2*d\n",
    "print(d1)\n",
    "norm(d)"
   ]
  },
  {
   "cell_type": "code",
   "execution_count": 14,
   "metadata": {},
   "outputs": [
    {
     "data": {
      "text/plain": [
       "3.7416573867739413"
      ]
     },
     "execution_count": 14,
     "metadata": {},
     "output_type": "execute_result"
    }
   ],
   "source": [
    "x = [1, 2, 3]\n",
    "norm(x)"
   ]
  },
  {
   "cell_type": "code",
   "execution_count": 15,
   "metadata": {},
   "outputs": [
    {
     "name": "stdout",
     "output_type": "stream",
     "text": [
      "__init__ elementi:  [[10, 13]]\n",
      "__init__ elementi:  [[12, 16]]\n",
      "__init__ elementi:  [[14, 13]]\n",
      "__init__ elementi:  [[12. 14.]]\n",
      "[[12. 14.]]\n"
     ]
    }
   ],
   "source": [
    "n = 2\n",
    "tocke = [\n",
    "    Matrica(1, n, [[10, 13]]),\n",
    "    Matrica(1, n, [[12, 16]]),\n",
    "    Matrica(1, n, [[14, 13]])\n",
    "]\n",
    "xc = Matrica(1, n)\n",
    "for xi in tocke:\n",
    "    xc += xi\n",
    "for i in range(n):\n",
    "    xc[0][i] /= len(tocke) \n",
    "xcopy = xc.copy()\n",
    "print(xcopy)"
   ]
  },
  {
   "cell_type": "code",
   "execution_count": 8,
   "metadata": {},
   "outputs": [
    {
     "data": {
      "text/plain": [
       "array([[0., 0., 0.],\n",
       "       [0., 0., 0.]])"
      ]
     },
     "execution_count": 8,
     "metadata": {},
     "output_type": "execute_result"
    }
   ],
   "source": [
    "np.zeros((2, 3))"
   ]
  },
  {
   "cell_type": "code",
   "execution_count": null,
   "metadata": {},
   "outputs": [],
   "source": []
  }
 ],
 "metadata": {
  "kernelspec": {
   "display_name": "Python 3",
   "language": "python",
   "name": "python3"
  },
  "language_info": {
   "codemirror_mode": {
    "name": "ipython",
    "version": 3
   },
   "file_extension": ".py",
   "mimetype": "text/x-python",
   "name": "python",
   "nbconvert_exporter": "python",
   "pygments_lexer": "ipython3",
   "version": "3.8.2"
  }
 },
 "nbformat": 4,
 "nbformat_minor": 4
}
