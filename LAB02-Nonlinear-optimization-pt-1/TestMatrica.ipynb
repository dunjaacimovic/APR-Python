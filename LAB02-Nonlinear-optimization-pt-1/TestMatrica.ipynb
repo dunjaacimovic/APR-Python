{
 "cells": [
  {
   "cell_type": "code",
   "execution_count": 1,
   "metadata": {},
   "outputs": [],
   "source": [
    "from Matrica import Matrica\n",
    "import numpy as np"
   ]
  },
  {
   "cell_type": "code",
   "execution_count": 2,
   "metadata": {},
   "outputs": [],
   "source": [
    "broj1 = Matrica(1, 1, [[6]])\n",
    "broj2 = Matrica(1, 1, [[2]])\n",
    "\n",
    "vektor1 = Matrica(1, 3, [[1, 2, 3]])\n",
    "vektor2 = Matrica(1, 3, [[4, 5, 6]])\n",
    "vektor3 = Matrica(3, 1, [[1], [2], [3]])\n",
    "vektor4 = Matrica(3, 1, [[4], [5], [6]])\n",
    "\n",
    "matrica1 = Matrica(3, 3, [[1, 2, 3], [1, 1, 1], [1, 2, 3]])\n",
    "matrica2 = Matrica(3, 3, [[4, 5, 6], [7, 8, 9], [7, 8, 9]])"
   ]
  },
  {
   "cell_type": "code",
   "execution_count": 3,
   "metadata": {},
   "outputs": [
    {
     "name": "stdout",
     "output_type": "stream",
     "text": [
      "[[6.]] [[2.]]\n",
      "[[1. 2. 3.]] [[4. 5. 6.]]\n",
      "[[1.]\n",
      " [2.]\n",
      " [3.]]\n",
      "[[4.]\n",
      " [5.]\n",
      " [6.]]\n",
      "[[1. 2. 3.]\n",
      " [1. 1. 1.]\n",
      " [1. 2. 3.]]\n",
      "[[4. 5. 6.]\n",
      " [7. 8. 9.]\n",
      " [7. 8. 9.]]\n"
     ]
    }
   ],
   "source": [
    "print(broj1, broj2)\n",
    "print(vektor1, vektor2)\n",
    "print(vektor3)\n",
    "print(vektor4)\n",
    "print(matrica1)\n",
    "print(matrica2)"
   ]
  },
  {
   "cell_type": "code",
   "execution_count": 4,
   "metadata": {},
   "outputs": [
    {
     "name": "stdout",
     "output_type": "stream",
     "text": [
      "Elementi matrice trebaju biti u 2D matrici.\n"
     ]
    }
   ],
   "source": [
    "# Elementi matrice trebaju biti u 2D matrici.\n",
    "try: \n",
    "    Matrica(3, 1, 6)\n",
    "except Exception as e:\n",
    "    print(e)"
   ]
  },
  {
   "cell_type": "markdown",
   "metadata": {},
   "source": [
    "#### Zbrajanje"
   ]
  },
  {
   "cell_type": "code",
   "execution_count": 5,
   "metadata": {},
   "outputs": [
    {
     "name": "stdout",
     "output_type": "stream",
     "text": [
      "[[8.]]\n",
      "[[5. 7. 9.]]\n",
      "[[5.]\n",
      " [7.]\n",
      " [9.]]\n",
      "[[ 5.  7.  9.]\n",
      " [ 8.  9. 10.]\n",
      " [ 8. 10. 12.]]\n"
     ]
    }
   ],
   "source": [
    "print(broj1 + broj2)\n",
    "print(vektor1 + vektor2)\n",
    "print(vektor3 + vektor4)\n",
    "print(matrica1 + matrica2)"
   ]
  },
  {
   "cell_type": "code",
   "execution_count": 6,
   "metadata": {},
   "outputs": [
    {
     "name": "stdout",
     "output_type": "stream",
     "text": [
      "Pogrešne dimenzije matrica. Lijeva je dimenzija (1, 1), a desna (1, 3).\n"
     ]
    }
   ],
   "source": [
    "# Pogrešne dimenzije matrica.\n",
    "try: \n",
    "    broj1 + vektor2\n",
    "except Exception as e:\n",
    "    print(e)"
   ]
  },
  {
   "cell_type": "code",
   "execution_count": 7,
   "metadata": {},
   "outputs": [
    {
     "name": "stdout",
     "output_type": "stream",
     "text": [
      "Pogrešne dimenzije matrica. Lijeva je dimenzija (3, 1), a desna (1, 1).\n"
     ]
    }
   ],
   "source": [
    "# Pogrešne dimenzije matrica.\n",
    "try: \n",
    "    vektor3 + broj2\n",
    "except Exception as e:\n",
    "    print(e)"
   ]
  },
  {
   "cell_type": "code",
   "execution_count": 8,
   "metadata": {},
   "outputs": [
    {
     "name": "stdout",
     "output_type": "stream",
     "text": [
      "Pogrešne dimenzije matrica. Lijeva je dimenzija (1, 3), a desna (3, 1).\n"
     ]
    }
   ],
   "source": [
    "# Pogrešne dimenzije matrica.\n",
    "try: \n",
    "    vektor1 + vektor3\n",
    "except Exception as e:\n",
    "    print(e)"
   ]
  },
  {
   "cell_type": "code",
   "execution_count": 9,
   "metadata": {},
   "outputs": [
    {
     "name": "stdout",
     "output_type": "stream",
     "text": [
      "Pogrešne dimenzije matrica. Lijeva je dimenzija (3, 3), a desna (1, 1).\n"
     ]
    }
   ],
   "source": [
    "# Pogrešne dimenzije matrica.\n",
    "try: \n",
    "    matrica1 + broj2\n",
    "except Exception as e:\n",
    "    print(e)"
   ]
  },
  {
   "cell_type": "code",
   "execution_count": 10,
   "metadata": {},
   "outputs": [
    {
     "name": "stdout",
     "output_type": "stream",
     "text": [
      "Pogrešne dimenzije matrica. Lijeva je dimenzija (3, 3), a desna (1, 3).\n"
     ]
    }
   ],
   "source": [
    "# Pogrešne dimenzije matrica.\n",
    "try: \n",
    "    matrica1 + vektor2\n",
    "except Exception as e:\n",
    "    print(e)"
   ]
  },
  {
   "cell_type": "markdown",
   "metadata": {},
   "source": [
    "#### Oduzimanje"
   ]
  },
  {
   "cell_type": "code",
   "execution_count": 11,
   "metadata": {},
   "outputs": [
    {
     "name": "stdout",
     "output_type": "stream",
     "text": [
      "[[4.]]\n",
      "[[-3. -3. -3.]]\n",
      "[[-3.]\n",
      " [-3.]\n",
      " [-3.]]\n",
      "[[-3. -3. -3.]\n",
      " [-6. -7. -8.]\n",
      " [-6. -6. -6.]]\n"
     ]
    }
   ],
   "source": [
    "print(broj1 - broj2)\n",
    "print(vektor1 - vektor2)\n",
    "print(vektor3 - vektor4)\n",
    "print(matrica1 - matrica2)"
   ]
  },
  {
   "cell_type": "code",
   "execution_count": 12,
   "metadata": {},
   "outputs": [
    {
     "name": "stdout",
     "output_type": "stream",
     "text": [
      "Pogrešne dimenzije matrica. Lijeva je dimenzija (1, 1), a desna (1, 3).\n"
     ]
    }
   ],
   "source": [
    "# Pogrešne dimenzije matrica.\n",
    "try: \n",
    "    broj1 - vektor2\n",
    "except Exception as e:\n",
    "    print(e)"
   ]
  },
  {
   "cell_type": "code",
   "execution_count": 13,
   "metadata": {},
   "outputs": [
    {
     "name": "stdout",
     "output_type": "stream",
     "text": [
      "Pogrešne dimenzije matrica. Lijeva je dimenzija (3, 1), a desna (1, 1).\n"
     ]
    }
   ],
   "source": [
    "# Pogrešne dimenzije matrica.\n",
    "try: \n",
    "    vektor3 - broj2\n",
    "except Exception as e:\n",
    "    print(e)"
   ]
  },
  {
   "cell_type": "code",
   "execution_count": 14,
   "metadata": {},
   "outputs": [
    {
     "name": "stdout",
     "output_type": "stream",
     "text": [
      "Pogrešne dimenzije matrica. Lijeva je dimenzija (1, 3), a desna (3, 1).\n"
     ]
    }
   ],
   "source": [
    "# Pogrešne dimenzije matrica.\n",
    "try: \n",
    "    vektor1 - vektor3\n",
    "except Exception as e:\n",
    "    print(e)"
   ]
  },
  {
   "cell_type": "code",
   "execution_count": 15,
   "metadata": {},
   "outputs": [
    {
     "name": "stdout",
     "output_type": "stream",
     "text": [
      "Pogrešne dimenzije matrica. Lijeva je dimenzija (3, 3), a desna (1, 1).\n"
     ]
    }
   ],
   "source": [
    "# Pogrešne dimenzije matrica.\n",
    "try: \n",
    "    matrica1 + broj2\n",
    "except Exception as e:\n",
    "    print(e)"
   ]
  },
  {
   "cell_type": "code",
   "execution_count": 16,
   "metadata": {},
   "outputs": [
    {
     "name": "stdout",
     "output_type": "stream",
     "text": [
      "Pogrešne dimenzije matrica. Lijeva je dimenzija (3, 3), a desna (1, 3).\n"
     ]
    }
   ],
   "source": [
    "# Pogrešne dimenzije matrica.\n",
    "try: \n",
    "    matrica1 - vektor2\n",
    "except Exception as e:\n",
    "    print(e)"
   ]
  },
  {
   "cell_type": "markdown",
   "metadata": {},
   "source": [
    "#### Množenje"
   ]
  },
  {
   "cell_type": "code",
   "execution_count": 17,
   "metadata": {},
   "outputs": [
    {
     "name": "stdout",
     "output_type": "stream",
     "text": [
      "m1/3\n",
      "[[0.33333333 0.66666667 1.        ]\n",
      " [0.33333333 0.33333333 0.33333333]\n",
      " [0.33333333 0.66666667 1.        ]]\n",
      "1/3 * (m1)\n",
      "[[0.33333333 0.66666667 1.        ]\n",
      " [0.33333333 0.33333333 0.33333333]\n",
      " [0.33333333 0.66666667 1.        ]]\n",
      "m1*v2\n",
      "[[14.]\n",
      " [ 6.]\n",
      " [14.]]\n",
      "v1*m1\n",
      "[[ 6. 10. 14.]]\n",
      "m1*m1\n",
      "[[ 6. 10. 14.]\n",
      " [ 3.  5.  7.]\n",
      " [ 6. 10. 14.]]\n",
      "v1*v2\n",
      "[[14.]]\n",
      "v2*v1\n",
      "[[1. 2. 3.]\n",
      " [2. 4. 6.]\n",
      " [3. 6. 9.]]\n"
     ]
    }
   ],
   "source": [
    "# Provjera mnozenja matrica\n",
    "\n",
    "v1 = Matrica(1, 3, [[1, 2, 3]])\n",
    "v2 = Matrica(3, 1, [[1], [2], [3]])\n",
    "m1 = Matrica(3, 3, [[1, 2, 3], [1, 1, 1], [1, 2, 3]])\n",
    "\n",
    "print(\"m1/3\")\n",
    "print(m1/3)\n",
    "\n",
    "print(\"1/3 * (m1)\")\n",
    "print(1/3 * m1)\n",
    "\n",
    "# print(m1*v1)\n",
    "print(\"m1*v2\")\n",
    "print(m1*v2)\n",
    "print(\"v1*m1\")\n",
    "print(v1*m1)\n",
    "print(\"m1*m1\")\n",
    "print(m1*m1)\n",
    "print(\"v1*v2\")\n",
    "print(v1*v2)\n",
    "print(\"v2*v1\")\n",
    "print(v2*v1)"
   ]
  },
  {
   "cell_type": "code",
   "execution_count": 18,
   "metadata": {},
   "outputs": [
    {
     "name": "stdout",
     "output_type": "stream",
     "text": [
      "3 3 3 3\n"
     ]
    }
   ],
   "source": [
    "print(m1.br_stup, v2.br_red, len(m1.elementi[0]), len(v2.elementi))"
   ]
  }
 ],
 "metadata": {
  "kernelspec": {
   "display_name": "Python 3",
   "language": "python",
   "name": "python3"
  },
  "language_info": {
   "codemirror_mode": {
    "name": "ipython",
    "version": 3
   },
   "file_extension": ".py",
   "mimetype": "text/x-python",
   "name": "python",
   "nbconvert_exporter": "python",
   "pygments_lexer": "ipython3",
   "version": "3.8.2"
  }
 },
 "nbformat": 4,
 "nbformat_minor": 4
}
