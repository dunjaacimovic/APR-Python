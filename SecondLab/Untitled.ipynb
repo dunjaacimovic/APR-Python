{
 "cells": [
  {
   "cell_type": "markdown",
   "metadata": {},
   "source": [
    "# Postupci nelinearne optimizacije"
   ]
  },
  {
   "cell_type": "markdown",
   "metadata": {},
   "source": [
    "# Zlatni rez"
   ]
  },
  {
   "cell_type": "markdown",
   "metadata": {},
   "source": [
    "### Traženje unimodalnog intervala"
   ]
  },
  {
   "cell_type": "markdown",
   "metadata": {},
   "source": [
    "- <b>Ulazne veličine</b>:\n",
    "    - <b>tocka</b>: početna točka pretraživanja\n",
    "    - <b>h</b>: pomak pretraživanja\n",
    "    - <b>f</b>: ciljna funkcija\n",
    "\n",
    "\n",
    "- <b>Izlazne vrijednosti</b>:\n",
    "    - <b>unimodalni interval [l, r]</b>"
   ]
  },
  {
   "cell_type": "code",
   "execution_count": 6,
   "metadata": {},
   "outputs": [],
   "source": [
    "def unimodalni(h, tocka, l, r):\n",
    "    l = tocka - h \n",
    "    r = tocka + h\n",
    "    m = tocka\n",
    "    step = 1\n",
    "    \n",
    "    fm = f(tocka)\n",
    "    fl = f(l)\n",
    "    fr = f(r)\n",
    "    \n",
    "    if fm < fr and fm < fl: return\n",
    "    elif fm > fr:\n",
    "        while(True):\n",
    "            l = m\n",
    "            m = r\n",
    "            fm = fr\n",
    "            step *= 2\n",
    "            r = tocka + (h * step)\n",
    "            fr = f(r)\n",
    "            if (fm <= fr): break\n",
    "    else: \n",
    "        while(True):\n",
    "            r = m\n",
    "            m = l\n",
    "            fm = fl\n",
    "            step *= 2\n",
    "            l = tocka - (h * step)\n",
    "            fl = f(l)\n",
    "            if(fm <= fl): break\n",
    "            "
   ]
  },
  {
   "cell_type": "markdown",
   "metadata": {},
   "source": [
    "### Postupak zlatnog reza \n",
    "- <b>Ulazne veličine</b>:\n",
    "    - <b>a, b</b>: početne granice unimodalnog intervala\n",
    "    - <b>e</b>: preciznost\n"
   ]
  },
  {
   "cell_type": "code",
   "execution_count": null,
   "metadata": {},
   "outputs": [],
   "source": [
    "def zlatni_rez(a, b, epsilon):\n",
    "    c = b - k * (b - a)\n",
    "    d = a + k * (b - a)\n",
    "\tfc = f(c)\n",
    "\tfd = f(d)\n",
    "    \n",
    "    while((b - a) > epsilon):\n",
    "        if(fc < fd):\n",
    "            b = d \n",
    "            d = c\n",
    "            c = b - k * (b - a)\n",
    "            fd = fc\n",
    "\t\t\tfc = f(c)\n",
    "        else:\n",
    "            a = c\n",
    "\t\t\tc = d\n",
    "\t\t\td = a + k * (b - a)\n",
    "\t\t\tfc = fd\n",
    "\t\t\tfd = f(d)\n",
    "    return a, b"
   ]
  },
  {
   "cell_type": "markdown",
   "metadata": {},
   "source": [
    "# Pretraživanje po koordinatnim osima "
   ]
  },
  {
   "cell_type": "code",
   "execution_count": null,
   "metadata": {},
   "outputs": [],
   "source": []
  }
 ],
 "metadata": {
  "kernelspec": {
   "display_name": "Python 3",
   "language": "python",
   "name": "python3"
  },
  "language_info": {
   "codemirror_mode": {
    "name": "ipython",
    "version": 3
   },
   "file_extension": ".py",
   "mimetype": "text/x-python",
   "name": "python",
   "nbconvert_exporter": "python",
   "pygments_lexer": "ipython3",
   "version": "3.8.2"
  }
 },
 "nbformat": 4,
 "nbformat_minor": 4
}
