{
 "cells": [
  {
   "source": [
    "import math\n",
    "import numpy as np \n",
    "from random import randint\n",
    "import nelinOpt as no\n",
    "from Matrica import Matrica, JedinicnaMatrica\n"
   ],
   "cell_type": "code",
   "metadata": {},
   "execution_count": 28,
   "outputs": []
  },
  {
   "source": [
    "## Box"
   ],
   "cell_type": "markdown",
   "metadata": {}
  },
  {
   "cell_type": "code",
   "execution_count": 69,
   "metadata": {},
   "outputs": [],
   "source": [
    "def box(x0, xd, xg, func, ogranicenja, alfa=2.0, epsilon=1e-6, ispis=False):\n",
    "\n",
    "    for i in range(x0.br_stup):\n",
    "        if not (x0[0][i] >= xd and x0[0][i] <= xg): \n",
    "            raise Exception(\"Pocetna tocka je krivo zadana. Ne postuje eksplicitna ogranicenja.\")\n",
    "            return\n",
    "    if not provjeri(x0, ogranicenja): \n",
    "            raise Exception(\"Pocetna tocka je krivo zadana. Ne postuje implicitna ogranicenja.\")\n",
    "            return\n",
    "    \n",
    "    n = x0.br_stup\n",
    "    # print(type(x0))\n",
    "    xc = x0.copy()\n",
    "    # print(type(xc))\n",
    "    tocke = [x0]\n",
    "\n",
    "    #generiranje skupa 2n tocaka\n",
    "    for t in range(2*n):\n",
    "        print(type(xc))\n",
    "        xi = []\n",
    "        for i in range(n):\n",
    "            r = randint(0, 1)\n",
    "            xi.append(xd + r * (xg - xd))\n",
    "        tocke.append(Matrica(1, n, [xi]))\n",
    "        while True:\n",
    "            print(type(xc))\n",
    "            if provjeri(tocke[t], ogranicenja): break\n",
    "            tocke[t] = 0.5 * (tocke[t] + xc)\n",
    "\n",
    "        #novi centroid\n",
    "        print(xc)\n",
    "        xc = centroid(tocke, n)\n",
    "        print(xc)\n",
    "    \n",
    "    while True:\n",
    "        #pronalazak h i h2\n",
    "        h = no.index_max(tocke, func, ispis)\n",
    "\n",
    "        tocke_bez_h = tocke.copy()\n",
    "        tocke_bez_h.pop(h)\n",
    "\n",
    "        h2 = no.index_max(tocke_bez_h, func, ispis)\n",
    "        xc = centroid(tocke_bez_h, n)\n",
    "\n",
    "        xr = (1 + alfa) * xc - alfa * tocke[h]\n",
    "\n",
    "        for i in range(n):\n",
    "            if xr[0][i] < xd: xr[0][i] = xd\n",
    "            if xr[0][i] > xg: xr[0][i] = xg\n",
    "        \n",
    "        while True:\n",
    "            if provjeri(xr, ogranicenja): break\n",
    "            xr = 0.5 * (xr + xc)\n",
    "        \n",
    "        if func.vrijednost(xr) > func.vrijednost(tocke[h2]):\n",
    "            xr = 0.5 * (xr + xc)\n",
    "        \n",
    "        tocke[h] = xr \n",
    "        if uvjet_zaustavljanja(tocke[h], xc, epsilon): return xc    \n",
    "\n",
    "def provjeri(x, ogranicenja):\n",
    "    for o in ogranicenja:\n",
    "        if o(x) < 0: return False\n",
    "    return True\n",
    "\n",
    "def centroid(tocke, n):\n",
    "    xc = Matrica(1, n)\n",
    "    for xi in tocke:\n",
    "        xc += xi\n",
    "    for i in range(n):\n",
    "        xc[0][i] /= len(tocke) \n",
    "    return xc\n",
    "\n",
    "def uvjet_zaustavljanja(xh, xc, e):\n",
    "    for i in range(len(xh)):\n",
    "        if abs(xh[0][i] - xc[0][i]) < e: return True\n",
    "    return False"
   ]
  },
  {
   "source": [
    "## Transformacija u problem bez ogranicenja na mjesoviti nacin"
   ],
   "cell_type": "markdown",
   "metadata": {}
  },
  {
   "cell_type": "code",
   "execution_count": 61,
   "metadata": {},
   "outputs": [],
   "source": [
    "\n",
    "\n",
    "def transformacija(x0, func, ogranicenja, ogr_jednakosti=None, t=1., epsilon=1e-6):\n",
    "    x = x0.copy\n",
    "    transformirana_fja = Transformirana_fja(func, ogranicenja, ogr_jednakosti, t, epsilon)\n",
    "    while True:\n",
    "        optimized_value = no.hooke_jeeves(x, transformirana_fja)\n",
    "        transformirana_fja.t *= 10\n",
    "\n",
    "        if uvjet_zaustavljanja_transf(x, optimized_value):\n",
    "            trenutni_t = transformirana_fja.t\n",
    "            cnt = int(math.log10(t)) + 1\n",
    "            return optimized_value, cnt\n",
    "\n",
    "        x = optimized_value\n",
    "\n",
    "class Transformirana_fja:\n",
    "\n",
    "    def __init__(self, func, ogranicenja, ogr_jednakosti, t=1.0, epsilon=1e-6):\n",
    "        self.func = func\n",
    "        self.ogranicenja = ogranicenja\n",
    "        self.ogr_jednakosti = ogr_jednakosti\n",
    "        self.t = t\n",
    "        self.epsilon = epsilon \n",
    "    \n",
    "    def vrijednost(self, x):\n",
    "        x = x0.copy()\n",
    "        fx = func.vrijednost(x)\n",
    "        \n",
    "        # ogranicenja nejednakosti\n",
    "        gx = 0\n",
    "        for o in ogranicenja:\n",
    "            ox = o(x)\n",
    "            if ox < 0: return 1234567890\n",
    "            else: gx += math.log(ox)\n",
    "        gx /= t\n",
    "        \n",
    "        #ogranicenja jednakosti\n",
    "        if not ogr_jednakosti != None:\n",
    "            hx = t * (x[0][1] - 1)**2\n",
    "\n",
    "        return fx - gx + hx \n",
    "\n",
    "    \n",
    "    def uvjet_zaustavljanja_transf(x, optimized_value):\n",
    "        for i in range(x):\n",
    "            if abs(x[0][i] - optimized_value[0][i]) > epsilon:\n",
    "                return False\n",
    "        return True"
   ]
  },
  {
   "source": [
    "## Newton-Raphson"
   ],
   "cell_type": "markdown",
   "metadata": {}
  },
  {
   "cell_type": "code",
   "execution_count": 46,
   "metadata": {},
   "outputs": [],
   "source": [
    "def newton_raphson(x0, func, grad, hess, zl_rez=False, epsilon=1e-6, ispis=False):\n",
    "    n = x0.br_stup\n",
    "    x = x0.copy()\n",
    "    cnt = 0\n",
    "    f_tmp = func.vrijednost(x)\n",
    "\n",
    "    while True:\n",
    "        gradijent = Matrica(1, n, [grad(x)])\n",
    "        if ispis: print(\"gradijent: \", gradijent)\n",
    "        hessian = Matrica(1, n, hess(x))\n",
    "        if ispis: print(\"hessian: \", hessian)\n",
    "        v = hessian * (gradijent.transponiraj())\n",
    "\n",
    "        if norm(v) <= epsilon:\n",
    "            break\n",
    "\n",
    "        if cnt >= 100:\n",
    "            print(\"Ne konvergira.\")\n",
    "            print(\"Broj iteracija: \", cnt)\n",
    "            return x\n",
    "\n",
    "        if zl_rez:\n",
    "            l_func = no.Funkcija(lambda l: func.vrijednost(x + l * gradijent))\n",
    "            faktor = no.minimum(Matrica(1, 1, [[0.]]), l_func, gradijent, ispis)\n",
    "        else:\n",
    "            faktor = -1\n",
    "        \n",
    "        x += faktor * gradijent\n",
    "        fx = func.vrijednost(x)\n",
    "\n",
    "        if fx != f_tmp: cnt=0\n",
    "        else: cnt += 1\n",
    "        f_tmp = fx\n",
    "\n",
    "    return x"
   ]
  },
  {
   "source": [
    "## Gradijentni spust"
   ],
   "cell_type": "markdown",
   "metadata": {}
  },
  {
   "cell_type": "code",
   "execution_count": 42,
   "metadata": {},
   "outputs": [],
   "source": [
    "def grad_desc(x0, func, grad, zl_rez=False, epsilon=1e-6, ispis=False):\n",
    "    n = x0.br_stup\n",
    "    x = x0.copy()\n",
    "    cnt = 0\n",
    "    f_tmp = func.vrijednost(x)\n",
    "\n",
    "    while True:\n",
    "        gradijent = Matrica(1, n, [grad(x)])\n",
    "        if norm(gradijent) < epsilon: \n",
    "            print(\"Broj iteracija: \", cnt)\n",
    "            break\n",
    "        # v = -1 * gradient\n",
    "\n",
    "        if cnt >= 100:\n",
    "            print(\"Ne konvergira.\")\n",
    "            print(\"Broj iteracija: \", cnt)\n",
    "            return x\n",
    "        \n",
    "        if zl_rez:\n",
    "            l_func = no.Funkcija(lambda l: func.vrijednost(x + l * gradijent))\n",
    "            faktor = no.minimum(Matrica(1, 1, [[0.]]), l_func, gradijent, ispis)\n",
    "        else:\n",
    "            faktor = -1\n",
    "    \n",
    "        x += faktor * gradijent\n",
    "        fx = func.vrijednost(x)\n",
    "\n",
    "        if fx != f_tmp: cnt=0\n",
    "        else: cnt += 1\n",
    "        f_tmp = fx \n",
    "\n",
    "    return x\n",
    "\n",
    "\n",
    "def norm(x):\n",
    "    squared = [xi**2 for xi in x[0]]\n",
    "    sum_of_squares = sum(squared)\n",
    "    return math.sqrt(sum_of_squares)\n"
   ]
  },
  {
   "source": [
    "## Zadatci"
   ],
   "cell_type": "markdown",
   "metadata": {}
  },
  {
   "source": [
    "1. Primijenite postupak gradijentnog spusta na funkciju 3, uz i bez određivanja optimalnog iznosa\n",
    "koraka. Što možete zaključiti iz rezultata? "
   ],
   "cell_type": "markdown",
   "metadata": {}
  },
  {
   "cell_type": "code",
   "execution_count": 6,
   "metadata": {
    "tags": []
   },
   "outputs": [
    {
     "output_type": "stream",
     "name": "stdout",
     "text": [
      "Ne konvergira.\nBroj iteracija:  100\n[[0. 0.]]\n--------------\nBroj iteracija:  0\n[[ 2.00000025 -3.00000038]]\n--------------\n"
     ]
    }
   ],
   "source": [
    "x0 = Matrica(1, 2, [[0, 0]])\n",
    "print(grad_desc(x0, no.Funkcija(no.f3), no.gf3, zl_rez=False))\n",
    "print(\"--------------\")\n",
    "print(grad_desc(x0, no.Funkcija(no.f3), no.gf3, zl_rez=True))\n",
    "print(\"--------------\")"
   ]
  },
  {
   "source": [
    "2. Primijenite postupak gradijentnog spusta i Newton-Raphsonov postupak na funkcije 1 i 2 s\n",
    "određivanjem optimalnog iznosa koraka. Kako se Newton-Raphsonov postupak ponaša na ovim\n",
    "funkcijama? Ispišite broj izračuna funkcije, gradijenta i Hesseove matrice. "
   ],
   "cell_type": "markdown",
   "metadata": {}
  },
  {
   "cell_type": "code",
   "execution_count": 14,
   "metadata": {
    "tags": []
   },
   "outputs": [
    {
     "output_type": "stream",
     "name": "stdout",
     "text": [
      "Ne konvergira.\n",
      "Broj iteracija:  100\n",
      "[[1.00000348 1.00000697]]\n",
      "Broj iteracija:  0\n",
      "[[3.99999967 2.00000005]]\n",
      "[[3.99999953 1.99999978]]\n"
     ]
    }
   ],
   "source": [
    "x1 = Matrica(1, 2, [[-1.9, 2]])\n",
    "# print(grad_desc(x1, no.Funkcija(no.f1), no.gf1, zl_rez=True))\n",
    "print(newton_raphson(x1, no.Funkcija(no.f1), no.gf1, no.hf1, zl_rez=True))\n",
    "x2 = Matrica(1, 2, [[0.1, 0.3]])\n",
    "print(grad_desc(x2, no.Funkcija(no.f2), no.gf2, zl_rez=True))\n",
    "print(newton_raphson(x2, no.Funkcija(no.f2), no.gf2, no.hf2, zl_rez=True))\n"
   ]
  },
  {
   "source": [
    "3. Primijenite postupak po Boxu na funkcije 1 i 2 uz implicitna ograničenja: (x2-x1 >= 0), (2-x1 >= 0) i\n",
    "eksplicitna ograničenja prema kojima su sve varijable u intervalu [-100, 100]. Mijenja li se položaj\n",
    "optimuma uz nametnuta ograničenja?"
   ],
   "cell_type": "markdown",
   "metadata": {}
  },
  {
   "cell_type": "code",
   "execution_count": 70,
   "metadata": {},
   "outputs": [
    {
     "output_type": "stream",
     "name": "stdout",
     "text": [
      "<class 'Matrica.Matrica'>\n<class 'Matrica.Matrica'>\n[[-1.9  2. ]]\n[[-50.95  51.  ]]\n<class 'Matrica.Matrica'>\n<class 'Matrica.Matrica'>\n[[-50.95  51.  ]]\n[[-0.63333333 67.33333333]]\n<class 'Matrica.Matrica'>\n<class 'Matrica.Matrica'>\n<class 'Matrica.Matrica'>\n<class 'Matrica.Matrica'>\n<class 'Matrica.Matrica'>\n<class 'Matrica.Matrica'>\n<class 'Matrica.Matrica'>\n<class 'Matrica.Matrica'>\n[[-0.63333333 67.33333333]]\n[[-0.24023438 67.4609375 ]]\n<class 'Matrica.Matrica'>\n<class 'Matrica.Matrica'>\n<class 'Matrica.Matrica'>\n<class 'Matrica.Matrica'>\n<class 'Matrica.Matrica'>\n<class 'Matrica.Matrica'>\n<class 'Matrica.Matrica'>\n<class 'Matrica.Matrica'>\n[[-0.24023438 67.4609375 ]]\n[[-39.92698364  27.56262207]]\n"
     ]
    },
    {
     "output_type": "error",
     "ename": "NameError",
     "evalue": "name 'x' is not defined",
     "traceback": [
      "\u001b[0;31m---------------------------------------------------------------------------\u001b[0m",
      "\u001b[0;31mNameError\u001b[0m                                 Traceback (most recent call last)",
      "\u001b[0;32m<ipython-input-70-d318bc7da8fd>\u001b[0m in \u001b[0;36m<module>\u001b[0;34m\u001b[0m\n\u001b[1;32m      2\u001b[0m \u001b[0mx2\u001b[0m \u001b[0;34m=\u001b[0m \u001b[0mMatrica\u001b[0m\u001b[0;34m(\u001b[0m\u001b[0;36m1\u001b[0m\u001b[0;34m,\u001b[0m \u001b[0;36m2\u001b[0m\u001b[0;34m,\u001b[0m \u001b[0;34m[\u001b[0m\u001b[0;34m[\u001b[0m\u001b[0;36m0.1\u001b[0m\u001b[0;34m,\u001b[0m \u001b[0;36m0.3\u001b[0m\u001b[0;34m]\u001b[0m\u001b[0;34m]\u001b[0m\u001b[0;34m)\u001b[0m\u001b[0;34m\u001b[0m\u001b[0;34m\u001b[0m\u001b[0m\n\u001b[1;32m      3\u001b[0m \u001b[0;34m\u001b[0m\u001b[0m\n\u001b[0;32m----> 4\u001b[0;31m \u001b[0mprint\u001b[0m\u001b[0;34m(\u001b[0m\u001b[0mbox\u001b[0m\u001b[0;34m(\u001b[0m\u001b[0mx1\u001b[0m\u001b[0;34m,\u001b[0m \u001b[0;34m-\u001b[0m\u001b[0;36m100\u001b[0m\u001b[0;34m,\u001b[0m \u001b[0;36m100\u001b[0m\u001b[0;34m,\u001b[0m \u001b[0mno\u001b[0m\u001b[0;34m.\u001b[0m\u001b[0mFunkcija\u001b[0m\u001b[0;34m(\u001b[0m\u001b[0mno\u001b[0m\u001b[0;34m.\u001b[0m\u001b[0mf1\u001b[0m\u001b[0;34m)\u001b[0m\u001b[0;34m,\u001b[0m \u001b[0;34m[\u001b[0m\u001b[0mno\u001b[0m\u001b[0;34m.\u001b[0m\u001b[0mo1\u001b[0m\u001b[0;34m,\u001b[0m \u001b[0mno\u001b[0m\u001b[0;34m.\u001b[0m\u001b[0mo2\u001b[0m\u001b[0;34m,\u001b[0m \u001b[0mno\u001b[0m\u001b[0;34m.\u001b[0m\u001b[0mo31\u001b[0m\u001b[0;34m,\u001b[0m \u001b[0mno\u001b[0m\u001b[0;34m.\u001b[0m\u001b[0mo32\u001b[0m\u001b[0;34m,\u001b[0m \u001b[0mno\u001b[0m\u001b[0;34m.\u001b[0m\u001b[0mo41\u001b[0m\u001b[0;34m,\u001b[0m \u001b[0mno\u001b[0m\u001b[0;34m.\u001b[0m\u001b[0mo42\u001b[0m\u001b[0;34m]\u001b[0m\u001b[0;34m)\u001b[0m\u001b[0;34m)\u001b[0m\u001b[0;34m\u001b[0m\u001b[0;34m\u001b[0m\u001b[0m\n\u001b[0m\u001b[1;32m      5\u001b[0m \u001b[0mprint\u001b[0m\u001b[0;34m(\u001b[0m\u001b[0mbox\u001b[0m\u001b[0;34m(\u001b[0m\u001b[0mx2\u001b[0m\u001b[0;34m,\u001b[0m \u001b[0;34m-\u001b[0m\u001b[0;36m100\u001b[0m\u001b[0;34m,\u001b[0m \u001b[0;36m100\u001b[0m\u001b[0;34m,\u001b[0m \u001b[0mno\u001b[0m\u001b[0;34m.\u001b[0m\u001b[0mFunkcija\u001b[0m\u001b[0;34m(\u001b[0m\u001b[0mno\u001b[0m\u001b[0;34m.\u001b[0m\u001b[0mf2\u001b[0m\u001b[0;34m)\u001b[0m\u001b[0;34m,\u001b[0m \u001b[0;34m[\u001b[0m\u001b[0mno\u001b[0m\u001b[0;34m.\u001b[0m\u001b[0mo1\u001b[0m\u001b[0;34m,\u001b[0m \u001b[0mno\u001b[0m\u001b[0;34m.\u001b[0m\u001b[0mo2\u001b[0m\u001b[0;34m,\u001b[0m \u001b[0mno\u001b[0m\u001b[0;34m.\u001b[0m\u001b[0mo31\u001b[0m\u001b[0;34m,\u001b[0m \u001b[0mno\u001b[0m\u001b[0;34m.\u001b[0m\u001b[0mo32\u001b[0m\u001b[0;34m,\u001b[0m \u001b[0mno\u001b[0m\u001b[0;34m.\u001b[0m\u001b[0mo41\u001b[0m\u001b[0;34m,\u001b[0m \u001b[0mno\u001b[0m\u001b[0;34m.\u001b[0m\u001b[0mo42\u001b[0m\u001b[0;34m]\u001b[0m\u001b[0;34m)\u001b[0m\u001b[0;34m)\u001b[0m\u001b[0;34m\u001b[0m\u001b[0;34m\u001b[0m\u001b[0m\n",
      "\u001b[0;32m<ipython-input-69-df5cc4641add>\u001b[0m in \u001b[0;36mbox\u001b[0;34m(x0, xd, xg, func, ogranicenja, alfa, epsilon, ispis)\u001b[0m\n\u001b[1;32m     56\u001b[0m             \u001b[0mxr\u001b[0m \u001b[0;34m=\u001b[0m \u001b[0;36m0.5\u001b[0m \u001b[0;34m*\u001b[0m \u001b[0;34m(\u001b[0m\u001b[0mxr\u001b[0m \u001b[0;34m+\u001b[0m \u001b[0mxc\u001b[0m\u001b[0;34m)\u001b[0m\u001b[0;34m\u001b[0m\u001b[0;34m\u001b[0m\u001b[0m\n\u001b[1;32m     57\u001b[0m \u001b[0;34m\u001b[0m\u001b[0m\n\u001b[0;32m---> 58\u001b[0;31m         \u001b[0mx\u001b[0m\u001b[0;34m[\u001b[0m\u001b[0mh\u001b[0m\u001b[0;34m]\u001b[0m \u001b[0;34m=\u001b[0m \u001b[0mxr\u001b[0m\u001b[0;34m\u001b[0m\u001b[0;34m\u001b[0m\u001b[0m\n\u001b[0m\u001b[1;32m     59\u001b[0m         \u001b[0;32mif\u001b[0m \u001b[0muvjet_zaustavljanja\u001b[0m\u001b[0;34m(\u001b[0m\u001b[0mtocke\u001b[0m\u001b[0;34m[\u001b[0m\u001b[0mh\u001b[0m\u001b[0;34m]\u001b[0m\u001b[0;34m,\u001b[0m \u001b[0mxc\u001b[0m\u001b[0;34m,\u001b[0m \u001b[0mepsilon\u001b[0m\u001b[0;34m)\u001b[0m\u001b[0;34m:\u001b[0m \u001b[0;32mreturn\u001b[0m \u001b[0mxc\u001b[0m\u001b[0;34m\u001b[0m\u001b[0;34m\u001b[0m\u001b[0m\n\u001b[1;32m     60\u001b[0m \u001b[0;34m\u001b[0m\u001b[0m\n",
      "\u001b[0;31mNameError\u001b[0m: name 'x' is not defined"
     ]
    }
   ],
   "source": [
    "x1 = Matrica(1, 2, [[-1.9, 2]])\n",
    "x2 = Matrica(1, 2, [[0.1, 0.3]])\n",
    "\n",
    "print(box(x1, -100, 100, no.Funkcija(no.f1), [no.o1, no.o2, no.o31, no.o32, no.o41, no.o42]))\n",
    "print(box(x2, -100, 100, no.Funkcija(no.f2), [no.o1, no.o2, no.o31, no.o32, no.o41, no.o42]))"
   ]
  },
  {
   "source": [
    "4. Primijenite postupak transformacije u problem bez ograničenja na funkcije 1 i 2 s ograničenjima iz\n",
    "prethodnog zadatka (zanemarite eksplicitna ograničenja). Novodobiveni problem optimizacije bez\n",
    "ograničenja minimizirajte koristeći postupak Hooke-Jeeves ili postupak simpleksa po Nelderu i\n",
    "Meadu. Može li se uz zadanu početnu točku pronaći optimalno rješenje problema s ograničenjima?\n",
    "Ako ne, probajte odabrati početnu točku iz koje je moguće pronaći rješenje. "
   ],
   "cell_type": "markdown",
   "metadata": {}
  },
  {
   "cell_type": "code",
   "execution_count": null,
   "metadata": {},
   "outputs": [],
   "source": []
  },
  {
   "source": [
    "5. Za funkciju 4 s ograničenjima (3-x1-x2>=0), (3+1.5*x1-x2>=0) i (x2-1=0) probajte pronaći\n",
    "minimum koristeći postupak transformacije u problem bez ograničenja (također koristite HookeJeeves ili postupak simpleksa po Nelderu i Meadu za minimizaciju). Probajte kao početnu točku\n",
    "postaviti neku točku koja ne zadovoljava ograničenja nejednakosti (primjerice točku (5,5)) te\n",
    "pomoću postupka pronalaženja unutarnje točke odredite drugu točku koja zadovoljava ograničenja\n",
    "nejednakosti te ju iskoristite kao početnu točku za postupak minimizacije. "
   ],
   "cell_type": "markdown",
   "metadata": {}
  },
  {
   "cell_type": "code",
   "execution_count": null,
   "metadata": {},
   "outputs": [],
   "source": []
  },
  {
   "source": [
    "## Provjere"
   ],
   "cell_type": "markdown",
   "metadata": {}
  },
  {
   "cell_type": "code",
   "execution_count": 30,
   "metadata": {},
   "outputs": [
    {
     "output_type": "stream",
     "name": "stdout",
     "text": [
      "10.0\n"
     ]
    }
   ],
   "source": [
    "tf = Transformirana_fja(3, 4, 5)\n",
    "tf.t *= 10\n",
    "print(tf.t)"
   ]
  },
  {
   "cell_type": "code",
   "execution_count": 24,
   "metadata": {},
   "outputs": [
    {
     "output_type": "stream",
     "name": "stdout",
     "text": [
      "1.0\n"
     ]
    }
   ],
   "source": [
    "p = 1.\n",
    "print(p)"
   ]
  },
  {
   "cell_type": "code",
   "execution_count": 22,
   "metadata": {},
   "outputs": [
    {
     "output_type": "stream",
     "name": "stdout",
     "text": [
      "__init__ elementi:  [[5, 6]]\n__init__ elementi:  [[3, 4]]\n[[13. 16.]]\n"
     ]
    },
    {
     "output_type": "execute_result",
     "data": {
      "text/plain": [
       "7.810249675906654"
      ]
     },
     "metadata": {},
     "execution_count": 22
    }
   ],
   "source": [
    "g = [5, 6]\n",
    "d = Matrica(1, 2, [g])\n",
    "d1 = Matrica(1, 2, [[3, 4]])\n",
    "d1 += 2*d\n",
    "print(d1)\n",
    "norm(d)"
   ]
  },
  {
   "cell_type": "code",
   "execution_count": 14,
   "metadata": {},
   "outputs": [
    {
     "output_type": "execute_result",
     "data": {
      "text/plain": [
       "3.7416573867739413"
      ]
     },
     "metadata": {},
     "execution_count": 14
    }
   ],
   "source": [
    "x = [1, 2, 3]\n",
    "norm(x)"
   ]
  },
  {
   "cell_type": "code",
   "execution_count": 15,
   "metadata": {},
   "outputs": [
    {
     "output_type": "stream",
     "name": "stdout",
     "text": [
      "__init__ elementi:  [[10, 13]]\n__init__ elementi:  [[12, 16]]\n__init__ elementi:  [[14, 13]]\n__init__ elementi:  [[12. 14.]]\n[[12. 14.]]\n"
     ]
    }
   ],
   "source": [
    "n = 2\n",
    "tocke = [\n",
    "    Matrica(1, n, [[10, 13]]),\n",
    "    Matrica(1, n, [[12, 16]]),\n",
    "    Matrica(1, n, [[14, 13]])\n",
    "]\n",
    "xc = Matrica(1, n)\n",
    "for xi in tocke:\n",
    "    xc += xi\n",
    "for i in range(n):\n",
    "    xc[0][i] /= len(tocke) \n",
    "xcopy = xc.copy()\n",
    "print(xcopy)"
   ]
  },
  {
   "cell_type": "code",
   "execution_count": 8,
   "metadata": {},
   "outputs": [
    {
     "output_type": "execute_result",
     "data": {
      "text/plain": [
       "array([[0., 0., 0.],\n",
       "       [0., 0., 0.]])"
      ]
     },
     "metadata": {},
     "execution_count": 8
    }
   ],
   "source": [
    "np.zeros((2, 3))"
   ]
  },
  {
   "cell_type": "code",
   "execution_count": null,
   "metadata": {},
   "outputs": [],
   "source": []
  }
 ],
 "metadata": {
  "kernelspec": {
   "name": "python3",
   "display_name": "Python 3.8.3 64-bit ('base': conda)",
   "metadata": {
    "interpreter": {
     "hash": "5eb693dbfd85c142492bb7da7d735a8a21fc684d264e3579437ba0a65bde9739"
    }
   }
  }
 },
 "nbformat": 4,
 "nbformat_minor": 4
}