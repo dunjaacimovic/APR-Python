{
 "cells": [
  {
   "cell_type": "markdown",
   "metadata": {},
   "source": [
    "# Matrica "
   ]
  },
  {
   "cell_type": "code",
   "execution_count": 1,
   "metadata": {},
   "outputs": [],
   "source": [
    "import numpy as np\n",
    "from Matrica import Matrica"
   ]
  },
  {
   "cell_type": "markdown",
   "metadata": {},
   "source": [
    "## 1. zadatak  \n",
    "#### Kakva treba biti usporedba double varijabli kako bi uspoređivanje dalo očekivane rezultate? Isprobajte operator == s elementima matrice kao necijelim brojevima, pomnožite i podijelite sa realnim brojem i usporedite s originalom. "
   ]
  },
  {
   "cell_type": "code",
   "execution_count": 2,
   "metadata": {},
   "outputs": [
    {
     "name": "stdout",
     "output_type": "stream",
     "text": [
      "[[1.2   2.34  3.453]\n",
      " [4.23  5.56  6.97 ]\n",
      " [7.3   8.245 9.789]]\n",
      "[[ 9.41686855 18.36289367 27.09703925]\n",
      " [33.19446163 43.63149094 54.69631148]\n",
      " [57.28595033 64.70173432 76.81810518]]\n",
      "[[1.2   2.34  3.453]\n",
      " [4.23  5.56  6.97 ]\n",
      " [7.3   8.245 9.789]]\n",
      "True\n"
     ]
    }
   ],
   "source": [
    "matrica = Matrica.citaj_iz(\"a1.txt\")\n",
    "print(matrica)\n",
    "\n",
    "m11 = matrica * 7.847390456847390456\n",
    "print(m11)\n",
    "m12 = m11 * (1. / 7.847390456847390456)\n",
    "print(m12)\n",
    "\n",
    "print(matrica == m12)"
   ]
  },
  {
   "cell_type": "markdown",
   "metadata": {},
   "source": [
    "## 2. zadatak\n",
    "#### Riješite sustav zadan matricama u nastavku. Odredite može li se riješiti LU odnosno LUP dekompozicijom"
   ]
  },
  {
   "cell_type": "code",
   "execution_count": 3,
   "metadata": {},
   "outputs": [
    {
     "name": "stdout",
     "output_type": "stream",
     "text": [
      "Dekompozicija matrice nije bila moguca: Pivot je nula.\n",
      "[[ 3.]\n",
      " [ 1.]\n",
      " [-1.]]\n"
     ]
    }
   ],
   "source": [
    "m21 = Matrica.citaj_iz(\"a21.txt\")\n",
    "v21 = Matrica.citaj_iz(\"a22.txt\")\n",
    "rjesenje = m21.rijesi_jednadzbu(v21, False)\n",
    "if rjesenje is not None: print(rjesenje)\n",
    "\n",
    "m22 = Matrica.citaj_iz(\"a21.txt\")\n",
    "v22 = Matrica.citaj_iz(\"a22.txt\")\n",
    "\n",
    "rjesenje = m22.rijesi_jednadzbu(v22, True)\n",
    "if rjesenje is not None: print(rjesenje)\n",
    "\n"
   ]
  },
  {
   "cell_type": "markdown",
   "metadata": {},
   "source": [
    "## 3. zadatak\n",
    "#### Zadanu matricu rastavite na LU odnosno LUP. Ako je ovom matricom predstavljen sustav jednadžbi, može li se sustav riješiti? (sami definirajte slobodni vektor) "
   ]
  },
  {
   "cell_type": "code",
   "execution_count": 4,
   "metadata": {},
   "outputs": [
    {
     "name": "stdout",
     "output_type": "stream",
     "text": [
      "0.0602\n",
      "[[ 1.  2.  3.]\n",
      " [ 4. -3. -6.]\n",
      " [ 7.  2.  0.]]\n",
      "[[7.   8.   9.  ]\n",
      " [0.14 0.86 1.71]\n",
      " [0.57 0.5  0.01]]\n"
     ]
    }
   ],
   "source": [
    "m31 = Matrica.citaj_iz(\"a31.txt\")\n",
    "m32 = Matrica.citaj_iz(\"a31.txt\")\n",
    "m33 = Matrica.citaj_iz(\"a31.txt\")\n",
    "\n",
    "print(m31.det())\n",
    "\n",
    "m32.lu_dekompozicija()\n",
    "m33.lup_dekompozicija()\n",
    "\n",
    "print(m32)\n",
    "print(m33)"
   ]
  },
  {
   "cell_type": "markdown",
   "metadata": {},
   "source": [
    "## 4. zadatak\n",
    "#### Zadani sustav riješite LU te LUP dekompozicijom. Objasnite razliku u rješenjima! (očituje se prilikom uporabe double varijabli) "
   ]
  },
  {
   "cell_type": "code",
   "execution_count": 19,
   "metadata": {},
   "outputs": [
    {
     "name": "stdout",
     "output_type": "stream",
     "text": [
      "[[1.00024045]\n",
      " [1.99931764]\n",
      " [3.00102354]]\n",
      "[[1.]\n",
      " [2.]\n",
      " [3.]]\n"
     ]
    }
   ],
   "source": [
    "m41 = Matrica.citaj_iz(\"a41.txt\")\n",
    "m42 = Matrica.citaj_iz(\"a41.txt\")\n",
    "\n",
    "v41 = Matrica.citaj_iz(\"a42.txt\")\n",
    "v42 = Matrica.citaj_iz(\"a42.txt\")\n",
    "\n",
    "print(m41.rijesi_jednadzbu(v41, False, False))\n",
    "print(m42.rijesi_jednadzbu(v42, True, False))"
   ]
  },
  {
   "cell_type": "markdown",
   "metadata": {},
   "source": [
    "## 5.zadatak\n",
    "#### Zadani sustav riješite odgovarajućom metodom. Objasnite razliku između dobivenog i točnog rješenja. "
   ]
  },
  {
   "cell_type": "code",
   "execution_count": 20,
   "metadata": {},
   "outputs": [
    {
     "name": "stdout",
     "output_type": "stream",
     "text": [
      "[[ 1.66611055e-03]\n",
      " [-7.77444111e-04]\n",
      " [ 2.99888889e+00]]\n",
      "[[3.        ]\n",
      " [6.99111629]\n",
      " [8.09723323]]\n",
      "[[6.]\n",
      " [9.]\n",
      " [3.]]\n"
     ]
    }
   ],
   "source": [
    "m51 = Matrica.citaj_iz(\"a51.txt\")\n",
    "v51 = Matrica.citaj_iz(\"a52.txt\")\n",
    "y = m51.rijesi_jednadzbu(v51, True, False)\n",
    "print(y)\n",
    "print(m51*y)\n",
    "print(v51)\n"
   ]
  },
  {
   "cell_type": "markdown",
   "metadata": {},
   "source": [
    "## 6. zadatak\n",
    "#### Zadani sustav riješite odgovarajućom metodom. Objasnite razliku između dobivenog i točnog rješenja."
   ]
  },
  {
   "cell_type": "code",
   "execution_count": 21,
   "metadata": {},
   "outputs": [
    {
     "name": "stdout",
     "output_type": "stream",
     "text": [
      "[[ nan]\n",
      " [ inf]\n",
      " [-inf]]\n",
      "[[nan]\n",
      " [nan]\n",
      " [nan]]\n",
      "[[9.0e+09]\n",
      " [1.5e+01]\n",
      " [1.5e-09]]\n"
     ]
    },
    {
     "name": "stderr",
     "output_type": "stream",
     "text": [
      "/Users/dunjaacimovic/Code/APR-Python/FirstLab/Matrica.py:201: RuntimeWarning: divide by zero encountered in true_divide\n",
      "  x[i] = x[i] / self.elementi[i][i]\n",
      "/Users/dunjaacimovic/Code/APR-Python/FirstLab/Matrica.py:204: RuntimeWarning: invalid value encountered in double_scalars\n",
      "  x[j][0] -= self.elementi[j][i] * x[i][0]\n",
      "/Users/dunjaacimovic/Code/APR-Python/FirstLab/Matrica.py:56: RuntimeWarning: invalid value encountered in double_scalars\n",
      "  m = [pair[0]*pair[1] for pair in z]\n"
     ]
    }
   ],
   "source": [
    "m61 = Matrica.citaj_iz(\"a61.txt\")\n",
    "v61 = Matrica.citaj_iz(\"a62.txt\")\n",
    "y = m61.rijesi_jednadzbu(v61, True, False)\n",
    "print(y)\n",
    "print(m61*y)\n",
    "print(v61)"
   ]
  },
  {
   "cell_type": "markdown",
   "metadata": {},
   "source": [
    "## 7. zadatak\n",
    "#### Korištenjem LUP dekompozicije izračunajte inverz zadane matrice te ispišite dobiveni rezultat: "
   ]
  },
  {
   "cell_type": "code",
   "execution_count": null,
   "metadata": {},
   "outputs": [],
   "source": []
  },
  {
   "cell_type": "markdown",
   "metadata": {},
   "source": [
    "## 8.zadatak\n",
    "#### Korištenjem LUP dekompozicije izračunajte inverz zadane matrice te ispišite dobiveni rezultat: "
   ]
  },
  {
   "cell_type": "code",
   "execution_count": null,
   "metadata": {},
   "outputs": [],
   "source": []
  }
 ],
 "metadata": {
  "kernelspec": {
   "display_name": "Python 3",
   "language": "python",
   "name": "python3"
  },
  "language_info": {
   "codemirror_mode": {
    "name": "ipython",
    "version": 3
   },
   "file_extension": ".py",
   "mimetype": "text/x-python",
   "name": "python",
   "nbconvert_exporter": "python",
   "pygments_lexer": "ipython3",
   "version": "3.8.2"
  }
 },
 "nbformat": 4,
 "nbformat_minor": 4
}
