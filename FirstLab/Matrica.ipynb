{
 "cells": [
  {
   "cell_type": "markdown",
   "metadata": {},
   "source": [
    "# Matrica "
   ]
  },
  {
   "cell_type": "code",
   "execution_count": 12,
   "metadata": {},
   "outputs": [],
   "source": [
    "import numpy as np\n",
    "import Matrica as mat"
   ]
  },
  {
   "cell_type": "markdown",
   "metadata": {},
   "source": [
    "# Dekompozicija"
   ]
  },
  {
   "cell_type": "markdown",
   "metadata": {},
   "source": [
    "## LU Dekompozicija"
   ]
  },
  {
   "cell_type": "code",
   "execution_count": 13,
   "metadata": {},
   "outputs": [],
   "source": [
    "class LU_dekompozitor:\n",
    "    \n",
    "    def __init__(self):\n",
    "        self.jedinicna_matrica = None\n",
    "    \n",
    "    def dekompozicija(self, matrica):\n",
    "        for i in range(self.brRed-1):\n",
    "            for j in range(i+1, self.brRed):\n",
    "                if matrica.elementi[i, i] == 0: \n",
    "                    print(\"Pivot je 0.\")\n",
    "                    return\n",
    "                matrica.elementi[j][i] = matrica.elementi[j][i] / matrica.elementi[i][i]\n",
    "                \n",
    "                for k in range (i+1, matrica.brStup):\n",
    "                    matrica.elementi[j][k] -= matrica.elementi[j][i] * matrica[i][k]\n",
    "        \n",
    "        self.identity_matrix = Matrica(matrica.brRed, matrica.brStup, True)"
   ]
  },
  {
   "cell_type": "markdown",
   "metadata": {},
   "source": [
    "## LUP Dekompozicija"
   ]
  },
  {
   "cell_type": "code",
   "execution_count": 14,
   "metadata": {},
   "outputs": [],
   "source": [
    "class LUP_Dekompozitor:\n",
    "    \n",
    "    def __init__(self):\n",
    "        self.permutacijska_matrica = None\n",
    "        self.brPermutacija = 0\n",
    "        \n",
    "    def dekompozicija(self, matrica):\n",
    "        p = np.array(range(matrica.brRed))\n",
    "        self.permutationCount = matrica.brRed\n",
    "\n",
    "        for i in range(matrica.brRed):\n",
    "            pivot = i \n",
    "            for j in (i+1, matrica.brRed):\n",
    "                if(abs(matrica.elementi[j][i]) > abs(matrica[pivot][i])):\n",
    "                    pivot = j\n",
    "\n",
    "            if pivot != i:\n",
    "    #             input_seq[ix1], input_seq[ix2] = input_seq[ix2], input_seq[ix1]\n",
    "                p[i], p[pivot] = p[pivot], p[i]\n",
    "            "
   ]
  },
  {
   "cell_type": "markdown",
   "metadata": {},
   "source": [
    "## Testiranje"
   ]
  },
  {
   "cell_type": "code",
   "execution_count": 15,
   "metadata": {},
   "outputs": [
    {
     "name": "stdout",
     "output_type": "stream",
     "text": [
      "4\n"
     ]
    }
   ],
   "source": [
    "arr = np.array(range(7))\n",
    "print(arr[4])"
   ]
  },
  {
   "cell_type": "code",
   "execution_count": 16,
   "metadata": {},
   "outputs": [],
   "source": [
    "el7 = [[6., 2., 10.], [2., 3., 0.], [0., 4., 2.]]\n",
    "mat7 = mat.Matrica(3, 3, False, el7)\n",
    "b7 = mat.Matrica(3, 3, False, [2., 3., 4.])"
   ]
  },
  {
   "cell_type": "code",
   "execution_count": null,
   "metadata": {},
   "outputs": [],
   "source": []
  },
  {
   "cell_type": "code",
   "execution_count": 18,
   "metadata": {},
   "outputs": [],
   "source": [
    "el4 = [[1., 2., 3.], [4., 5., 6.], [7., 8., 9.]]\n",
    "el5 = [[9., 8., 7.], [6., 5., 4.], [3., 2., 1.]]\n",
    "mat4 = mat.Matrica(3, 3, False, el4)\n",
    "mat5 = mat.Matrica(3, 3, False, el5)"
   ]
  },
  {
   "cell_type": "code",
   "execution_count": 19,
   "metadata": {},
   "outputs": [],
   "source": [
    "el6 = [[3, 9, 6], [4, 12, 12], [1, -1, 1]]\n",
    "b = [12, 12, 1]\n",
    "vektor_b = mat.Matrica(1, 3, False, b) \n",
    "mat6 = mat.Matrica(3, 3, False, el6)"
   ]
  },
  {
   "cell_type": "code",
   "execution_count": 20,
   "metadata": {},
   "outputs": [
    {
     "name": "stdout",
     "output_type": "stream",
     "text": [
      "[-34  44 -47]\n"
     ]
    }
   ],
   "source": [
    "vektor_y = mat6.supst_unaprijed(vektor_b)\n",
    "print(mat6.supst_unazad(vektor_y))"
   ]
  },
  {
   "cell_type": "code",
   "execution_count": 21,
   "metadata": {},
   "outputs": [
    {
     "name": "stdout",
     "output_type": "stream",
     "text": [
      "[12 12  1]\n",
      "[12 12  1]\n",
      "[ 12 999   1]\n",
      "[12 12  1]\n"
     ]
    }
   ],
   "source": [
    "print(vektor_b)\n",
    "print(vektor_b.elementi.T)\n",
    "\n",
    "z = vektor_b.elementi.copy()\n",
    "z[1] = 999\n",
    "print(z)\n",
    "print(vektor_b)"
   ]
  },
  {
   "cell_type": "code",
   "execution_count": 22,
   "metadata": {},
   "outputs": [],
   "source": [
    "mat1 = mat.Matrica(3, 3, True)\n",
    "mat2 = mat.Matrica(3, 3, True)"
   ]
  },
  {
   "cell_type": "code",
   "execution_count": 23,
   "metadata": {},
   "outputs": [
    {
     "name": "stdout",
     "output_type": "stream",
     "text": [
      "[[1. 0. 0.]\n",
      " [0. 1. 0.]\n",
      " [0. 0. 1.]]\n"
     ]
    }
   ],
   "source": [
    "mat3 = mat1*mat2\n",
    "print(mat3)"
   ]
  },
  {
   "cell_type": "code",
   "execution_count": 24,
   "metadata": {},
   "outputs": [
    {
     "name": "stdout",
     "output_type": "stream",
     "text": [
      "[[ 30.  24.  18.]\n",
      " [ 84.  69.  54.]\n",
      " [138. 114.  90.]]\n"
     ]
    }
   ],
   "source": [
    "mat6 = mat4*mat5\n",
    "print(mat6)"
   ]
  },
  {
   "cell_type": "code",
   "execution_count": 25,
   "metadata": {},
   "outputs": [
    {
     "name": "stdout",
     "output_type": "stream",
     "text": [
      "[7.0, 2.0, 0.0]\n"
     ]
    }
   ],
   "source": [
    "mat3 = mat1 + mat2 \n",
    "mat3.elementi[0][1] = 7\n",
    "print(mat3.dohvatiStupac(1))"
   ]
  },
  {
   "cell_type": "code",
   "execution_count": 26,
   "metadata": {},
   "outputs": [
    {
     "name": "stdout",
     "output_type": "stream",
     "text": [
      "[[2. 0. 0.]\n",
      " [7. 2. 0.]\n",
      " [0. 0. 2.]]\n"
     ]
    }
   ],
   "source": [
    "print(mat3.transpose())"
   ]
  },
  {
   "cell_type": "code",
   "execution_count": 27,
   "metadata": {},
   "outputs": [
    {
     "name": "stdout",
     "output_type": "stream",
     "text": [
      "[[1. 8. 0.]\n",
      " [0. 1. 0.]\n",
      " [0. 0. 1.]]\n",
      "[[1. 0. 0.]\n",
      " [8. 1. 0.]\n",
      " [0. 0. 1.]]\n"
     ]
    }
   ],
   "source": [
    "mat1.elementi[0][1] = 8\n",
    "print(mat1.elementi)\n",
    "print(mat1.elementi.T)"
   ]
  },
  {
   "cell_type": "code",
   "execution_count": 28,
   "metadata": {},
   "outputs": [
    {
     "name": "stdout",
     "output_type": "stream",
     "text": [
      "[[ 3. 24.  0.]\n",
      " [ 0.  3.  0.]\n",
      " [ 0.  0.  3.]]\n"
     ]
    }
   ],
   "source": [
    "mat7 = mat1*3\n",
    "print(mat7)"
   ]
  },
  {
   "cell_type": "code",
   "execution_count": 29,
   "metadata": {},
   "outputs": [
    {
     "name": "stdout",
     "output_type": "stream",
     "text": [
      "[2.0, 8.0, 0.0]\n",
      "[0.0, 2.0, 0.0]\n",
      "[0.0, 0.0, 2.0]\n",
      "False\n"
     ]
    }
   ],
   "source": [
    "for i in range(mat1.brRed):\n",
    "    z = list(zip(mat1.elementi[i], mat2.elementi[i]))\n",
    "#     print(z)\n",
    "    m = list(map(sum, z))\n",
    "    print(m)\n",
    "\n",
    "print(mat1 == mat2)"
   ]
  },
  {
   "cell_type": "code",
   "execution_count": 30,
   "metadata": {},
   "outputs": [
    {
     "name": "stdout",
     "output_type": "stream",
     "text": [
      "[[ 3. 24.  0.]\n",
      " [ 0.  3.  0.]\n",
      " [ 0.  0.  3.]]\n",
      "[[1. 8. 0.]\n",
      " [0. 1. 0.]\n",
      " [0. 0. 1.]]\n"
     ]
    }
   ],
   "source": [
    "print(mat1*3)\n",
    "print(mat1)"
   ]
  },
  {
   "cell_type": "code",
   "execution_count": 31,
   "metadata": {},
   "outputs": [
    {
     "name": "stdout",
     "output_type": "stream",
     "text": [
      "[[0. 8. 0.]\n",
      " [0. 0. 0.]\n",
      " [0. 0. 0.]]\n"
     ]
    }
   ],
   "source": [
    "mat1 -= mat2\n",
    "print(mat1)"
   ]
  },
  {
   "cell_type": "code",
   "execution_count": 32,
   "metadata": {},
   "outputs": [],
   "source": [
    "even_numbers = [2,3]\n",
    "even_numbers_squared = [4, 8]\n",
    "zipped_result = zip(even_numbers, even_numbers_squared)"
   ]
  },
  {
   "cell_type": "code",
   "execution_count": 33,
   "metadata": {},
   "outputs": [
    {
     "name": "stdout",
     "output_type": "stream",
     "text": [
      "[(2, 4), (3, 8)]\n"
     ]
    }
   ],
   "source": [
    "z = list(zipped_result)\n",
    "print(z)"
   ]
  },
  {
   "cell_type": "code",
   "execution_count": 34,
   "metadata": {},
   "outputs": [
    {
     "name": "stdout",
     "output_type": "stream",
     "text": [
      "[(2, 4), (3, 8)]\n"
     ]
    }
   ],
   "source": [
    "print(z)"
   ]
  },
  {
   "cell_type": "code",
   "execution_count": 35,
   "metadata": {},
   "outputs": [
    {
     "data": {
      "text/plain": [
       "list"
      ]
     },
     "execution_count": 35,
     "metadata": {},
     "output_type": "execute_result"
    }
   ],
   "source": [
    "type(z)"
   ]
  },
  {
   "cell_type": "code",
   "execution_count": 36,
   "metadata": {},
   "outputs": [
    {
     "name": "stdout",
     "output_type": "stream",
     "text": [
      "True\n"
     ]
    }
   ],
   "source": [
    "if type(z) == list: print(\"True\")"
   ]
  },
  {
   "cell_type": "code",
   "execution_count": 39,
   "metadata": {},
   "outputs": [],
   "source": [
    "l = list(range(1, 11))"
   ]
  },
  {
   "cell_type": "code",
   "execution_count": null,
   "metadata": {},
   "outputs": [],
   "source": [
    "l[]"
   ]
  }
 ],
 "metadata": {
  "kernelspec": {
   "display_name": "Python 3",
   "language": "python",
   "name": "python3"
  },
  "language_info": {
   "codemirror_mode": {
    "name": "ipython",
    "version": 3
   },
   "file_extension": ".py",
   "mimetype": "text/x-python",
   "name": "python",
   "nbconvert_exporter": "python",
   "pygments_lexer": "ipython3",
   "version": "3.8.2"
  }
 },
 "nbformat": 4,
 "nbformat_minor": 4
}
