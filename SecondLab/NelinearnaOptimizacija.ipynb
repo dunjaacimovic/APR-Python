{
 "cells": [
  {
   "cell_type": "markdown",
   "metadata": {},
   "source": [
    "# Postupci nelinearne optimizacije"
   ]
  },
  {
   "cell_type": "code",
   "execution_count": 1,
   "metadata": {},
   "outputs": [],
   "source": [
    "import math\n",
    "import numpy as np\n",
    "import sys\n",
    "sys.path.append('../')\n",
    "from FirstLab.Matrica import Matrica, JedinicnaMatrica"
   ]
  },
  {
   "cell_type": "code",
   "execution_count": 20,
   "metadata": {},
   "outputs": [
    {
     "name": "stdout",
     "output_type": "stream",
     "text": [
      "[1 2 3]\n",
      "[99  2  3]\n",
      "------------------------\n",
      "[99  2  3]\n"
     ]
    }
   ],
   "source": [
    "hello = ([1, 2, 3])\n",
    "matrica = Matrica(3, 3, hello)\n",
    "matrica1 = Matrica(3, 3, hello)\n",
    "\n",
    "# print(matrica) \n",
    "# print(\"------------------------\")\n",
    "# print(matrica1)\n",
    "# print(\"\\n\\n\")\n",
    "\n",
    "# matrica[1][1] = 99\n",
    "matrica1[0] = 99\n",
    "ms = [matrica, matrica1]\n",
    "for m in ms: print(m)\n",
    "print(\"------------------------\")\n",
    "del ms[0]\n",
    "for m in ms: print(m)\n",
    "    \n",
    "# print(matrica) \n",
    "# print(\"------------------------\")\n",
    "# print(matrica1)\n",
    "# print(\"\\n\\n\")\n",
    "# tuple_example = (1, 1)\n",
    "# print(matrica[tuple_example])\n",
    "\n",
    "# matrica[1:3] = [[2, 3, 4], [1, 2, 3]]\n",
    "\n",
    "# print(matrica)\n",
    "# stupac = matrica.dohvati_stupac(1)\n",
    "# print(stupac)\n",
    "# print(np.mean(matrica.elementi, axis=0))\n",
    "\n",
    "\n",
    "# matrica.izbrisi_redak(1)\n",
    "# print(matrica, matrica.br_red)"
   ]
  },
  {
   "cell_type": "markdown",
   "metadata": {
    "jupyter": {
     "source_hidden": true
    }
   },
   "source": [
    "## Zlatni rez"
   ]
  },
  {
   "cell_type": "markdown",
   "metadata": {
    "jupyter": {
     "source_hidden": true
    }
   },
   "source": [
    "### Traženje unimodalnog intervala"
   ]
  },
  {
   "cell_type": "markdown",
   "metadata": {
    "jupyter": {
     "source_hidden": true
    }
   },
   "source": [
    "- <b>Ulazne veličine</b>:\n",
    "    - <b>tocka</b>: početna točka pretraživanja\n",
    "    - <b>h</b>: pomak pretraživanja\n",
    "    - <b>f</b>: ciljna funkcija\n",
    "\n",
    "\n",
    "- <b>Izlazne vrijednosti</b>:\n",
    "    - <b>unimodalni interval [l, r]</b>"
   ]
  },
  {
   "cell_type": "code",
   "execution_count": 4,
   "metadata": {
    "jupyter": {
     "source_hidden": true
    }
   },
   "outputs": [],
   "source": [
    "def unimodalni(h, tocka, f):\n",
    "    \n",
    "    left = tocka - h \n",
    "    right = tocka + h\n",
    "    m = tocka\n",
    "    step = 1\n",
    "    \n",
    "    fm = f(tocka)\n",
    "    fl = f(left)\n",
    "    fr = f(right)\n",
    "    \n",
    "    if fm < fr and fm < fl: return\n",
    "    elif fm > fr:\n",
    "        while True:\n",
    "            left = m\n",
    "            m = right\n",
    "            fm = fr\n",
    "            step *= 2\n",
    "            right = tocka + (h * step)\n",
    "            fr = f(right)\n",
    "            if (fm <= fr): break\n",
    "    else: \n",
    "        while True:\n",
    "            right = m\n",
    "            m = left\n",
    "            fm = fl\n",
    "            step *= 2\n",
    "            left = tocka - (h * step)\n",
    "            fl = f(left)\n",
    "            if(fm <= fl): break\n",
    "    return left, right"
   ]
  },
  {
   "cell_type": "markdown",
   "metadata": {
    "jupyter": {
     "source_hidden": true
    }
   },
   "source": [
    "### Postupak zlatnog reza "
   ]
  },
  {
   "cell_type": "markdown",
   "metadata": {
    "jupyter": {
     "source_hidden": true
    }
   },
   "source": [
    "- <b>Ulazne veličine</b>:\n",
    "    - <b>a, b</b>: početne granice unimodalnog intervala\n",
    "    - <b>epsilon</b>: preciznost"
   ]
  },
  {
   "cell_type": "code",
   "execution_count": 12,
   "metadata": {
    "jupyter": {
     "source_hidden": true
    }
   },
   "outputs": [],
   "source": [
    "def zlatni_rez(a, b, epsilon):\n",
    "    c = b - k * (b - a)\n",
    "    d = a + k * (b - a)\n",
    "    fc = f(c)\n",
    "    fd = f(d)\n",
    "    \n",
    "    while((b - a) > epsilon):\n",
    "        if(fc < fd):\n",
    "            b = d \n",
    "            d = c\n",
    "            c = b - k * (b - a)\n",
    "            fd = fc\n",
    "            fc = f(c)\n",
    "        else:\n",
    "            a = c\n",
    "            c = d\n",
    "            d = a + k * (b - a)\n",
    "            fc = fd\n",
    "            fd = f(d)\n",
    "    return a, b"
   ]
  },
  {
   "cell_type": "markdown",
   "metadata": {
    "jupyter": {
     "source_hidden": true
    }
   },
   "source": [
    "## Pretraživanje po koordinatnim osima "
   ]
  },
  {
   "cell_type": "code",
   "execution_count": 3,
   "metadata": {
    "jupyter": {
     "source_hidden": true
    }
   },
   "outputs": [],
   "source": [
    "# definirati"
   ]
  },
  {
   "cell_type": "markdown",
   "metadata": {},
   "source": [
    "## Simpleks postupak po Nelderu i Meadu"
   ]
  },
  {
   "cell_type": "markdown",
   "metadata": {
    "jupyter": {
     "source_hidden": true
    }
   },
   "source": [
    "- <b>Ulazne veličine</b>:\n",
    "    - <b>x0</b>: početna točka\n",
    "    - <b>f</b>: funkcija cilja\n",
    "    - <b>alfa</b>\n",
    "    - <b>beta</b>\n",
    "    - <b>gama</b>\n",
    "    - <b>epsilon</b>\n"
   ]
  },
  {
   "cell_type": "code",
   "execution_count": 20,
   "metadata": {},
   "outputs": [],
   "source": [
    "def simplex(x0, alfa = 1.0, beta = 0.5, gama = 2.0, epsilon, f):\n",
    "    \n",
    "    #tocke simplexa\n",
    "    \n",
    "    pomak = 1\n",
    "    X = [Matrica(len(x0), 1, x0)]\n",
    "    for i in len(x0):\n",
    "        nova_tocka = Matrica(len(x0), 1, x0)\n",
    "        nova_tocka[i] += pomak\n",
    "        X.append(nova_tocka)\n",
    "    \n",
    "    # - h, l, centroid -\n",
    "    while True:\n",
    "        h = index_min(X, f)\n",
    "        l = index_max(X, f)\n",
    "        xc = centroid(X, h, f)\n",
    "        xr = refleksija(xc, X[h], alfa)\n",
    "        \n",
    "        if f(xr) < f(x[l]):\n",
    "            xe = ekspanzija(xc, X[h], gama)\n",
    "            \n",
    "            if f(xe) < f(X[h]):\n",
    "                X[h] = xe\n",
    "            else:\n",
    "                X[h] = xr\n",
    "\n",
    "        else:\n",
    "            if f(xr) < f(X[h]):\n",
    "                X[h] = xr\n",
    "                \n",
    "            xk = kontrakcija()\n",
    "            \n",
    "            if f(xk) < f(X[h]):\n",
    "                X[h] = xk\n",
    "            else:\n",
    "                pomak_prema_xl(X)\n",
    "        \n",
    "# - MINIMUM I MAKSIMUM FJE CILJA        \n",
    "def index_min(X, f):\n",
    "    i_min = 0\n",
    "    for i in range(len(X)):\n",
    "        if f(X[i]) < f(X[i_min]): i_min = i\n",
    "    return i_min\n",
    " \n",
    "def index_max(X, f):\n",
    "    i_min = 0\n",
    "    for i in range(len(X)):\n",
    "        if f(X[i]) > f(X[i_min]): i_min = i\n",
    "    return i_min\n",
    "\n",
    "# - CENTROID -\n",
    "def centroid(X, h, f):\n",
    "    tocke = X.copy()\n",
    "    del tocke[h]\n",
    "#     return np.mean(tocke, axis=0)\n",
    "\n",
    "# - REFLEKSIJA, EKSPANZIJA, KONTRAKCIJA -\n",
    "def refleksija(xc, xh, alfa = 1.0):\n",
    "    return ((1.0 + alfa) * xc) - (alfa * xh)\n",
    "\n",
    "def ekspanzija(xc, xr, gama = 2.0):\n",
    "    return ((1.0 - gama) * xc) + (gama * xr)\n",
    "\n",
    "def kontrakcija(xh, xc, beta = 0.5):\n",
    "    return ((1.0 - beta) * xc) + (beta * xh)\n",
    "\n",
    "def pomak_prema_xl(X):\n",
    "    for i in range(X.br_red):\n",
    "        X[i] = 0.5 * (X[i] + )"
   ]
  },
  {
   "cell_type": "markdown",
   "metadata": {},
   "source": [
    "## Optimizator"
   ]
  },
  {
   "cell_type": "code",
   "execution_count": 1,
   "metadata": {},
   "outputs": [],
   "source": [
    "class Optimizator:\n",
    "    \n",
    "    def __init__(self, pocetna_tocka, minimum):\n",
    "        self.pocetna_tocka = pocetna_tocka\n",
    "        self.minimum = minimum\n",
    "        self.number_of_evaluations = 0"
   ]
  },
  {
   "cell_type": "markdown",
   "metadata": {},
   "source": [
    "## Funkcije cilja"
   ]
  },
  {
   "cell_type": "code",
   "execution_count": 2,
   "metadata": {},
   "outputs": [],
   "source": [
    "def f1(x):\n",
    "    return 100 * (x[1] - (x[0])^2)^2 + (1 - x[0])^2\n",
    "\n",
    "def f2(x):\n",
    "    return (x[0] - 4)^2 + 4 * (x[1] - 2)^2\n",
    "\n",
    "def f3(x):\n",
    "    result = 0\n",
    "    for i in len(x):\n",
    "        result += (x[i] - i)^2\n",
    "    return result\n",
    "\n",
    "def f4(x):\n",
    "    return abs((x[0] - x[1]) * (x[0] + x[1])) + math.sqrt(x[0]^2 + x[1]^2)\n",
    "\n",
    "def f6(x):\n",
    "    suma = 0\n",
    "    for i in range(len(x)):\n",
    "        suma += x[i]^2\n",
    "    sinus = math.sin(math.sqrt(suma))\n",
    "    razlomak = ((sinus^2) - 0.5) / ((1 + 0.001 * suma)^2)\n",
    "    return 0.5 + razlomak"
   ]
  }
 ],
 "metadata": {
  "kernelspec": {
   "display_name": "Python 3",
   "language": "python",
   "name": "python3"
  },
  "language_info": {
   "codemirror_mode": {
    "name": "ipython",
    "version": 3
   },
   "file_extension": ".py",
   "mimetype": "text/x-python",
   "name": "python",
   "nbconvert_exporter": "python",
   "pygments_lexer": "ipython3",
   "version": "3.8.2"
  }
 },
 "nbformat": 4,
 "nbformat_minor": 4
}
