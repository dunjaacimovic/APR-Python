{
 "cells": [
  {
   "cell_type": "markdown",
   "metadata": {},
   "source": [
    "# Postupci nelinearne optimizacije"
   ]
  },
  {
   "cell_type": "code",
   "execution_count": 1,
   "metadata": {},
   "outputs": [],
   "source": [
    "import math\n",
    "from .application"
   ]
  },
  {
   "cell_type": "markdown",
   "metadata": {},
   "source": [
    "## Zlatni rez"
   ]
  },
  {
   "cell_type": "markdown",
   "metadata": {},
   "source": [
    "### Traženje unimodalnog intervala"
   ]
  },
  {
   "cell_type": "markdown",
   "metadata": {},
   "source": [
    "- <b>Ulazne veličine</b>:\n",
    "    - <b>tocka</b>: početna točka pretraživanja\n",
    "    - <b>h</b>: pomak pretraživanja\n",
    "    - <b>f</b>: ciljna funkcija\n",
    "\n",
    "\n",
    "- <b>Izlazne vrijednosti</b>:\n",
    "    - <b>unimodalni interval [l, r]</b>"
   ]
  },
  {
   "cell_type": "code",
   "execution_count": 4,
   "metadata": {},
   "outputs": [],
   "source": [
    "def unimodalni(h, tocka, f):\n",
    "    \n",
    "    left = tocka - h \n",
    "    right = tocka + h\n",
    "    m = tocka\n",
    "    step = 1\n",
    "    \n",
    "    fm = f(tocka)\n",
    "    fl = f(left)\n",
    "    fr = f(right)\n",
    "    \n",
    "    if fm < fr and fm < fl: return\n",
    "    elif fm > fr:\n",
    "        while True:\n",
    "            left = m\n",
    "            m = right\n",
    "            fm = fr\n",
    "            step *= 2\n",
    "            right = tocka + (h * step)\n",
    "            fr = f(right)\n",
    "            if (fm <= fr): break\n",
    "    else: \n",
    "        while True:\n",
    "            right = m\n",
    "            m = left\n",
    "            fm = fl\n",
    "            step *= 2\n",
    "            left = tocka - (h * step)\n",
    "            fl = f(left)\n",
    "            if(fm <= fl): break\n",
    "    return left, right"
   ]
  },
  {
   "cell_type": "markdown",
   "metadata": {},
   "source": [
    "### Postupak zlatnog reza "
   ]
  },
  {
   "cell_type": "markdown",
   "metadata": {},
   "source": [
    "- <b>Ulazne veličine</b>:\n",
    "    - <b>a, b</b>: početne granice unimodalnog intervala\n",
    "    - <b>epsilon</b>: preciznost"
   ]
  },
  {
   "cell_type": "code",
   "execution_count": 12,
   "metadata": {},
   "outputs": [],
   "source": [
    "def zlatni_rez(a, b, epsilon):\n",
    "    c = b - k * (b - a)\n",
    "    d = a + k * (b - a)\n",
    "    fc = f(c)\n",
    "    fd = f(d)\n",
    "    \n",
    "    while((b - a) > epsilon):\n",
    "        if(fc < fd):\n",
    "            b = d \n",
    "            d = c\n",
    "            c = b - k * (b - a)\n",
    "            fd = fc\n",
    "            fc = f(c)\n",
    "        else:\n",
    "            a = c\n",
    "            c = d\n",
    "            d = a + k * (b - a)\n",
    "            fc = fd\n",
    "            fd = f(d)\n",
    "    return a, b"
   ]
  },
  {
   "cell_type": "markdown",
   "metadata": {},
   "source": [
    "## Pretraživanje po koordinatnim osima "
   ]
  },
  {
   "cell_type": "code",
   "execution_count": 3,
   "metadata": {},
   "outputs": [],
   "source": [
    "# definirati"
   ]
  },
  {
   "cell_type": "markdown",
   "metadata": {},
   "source": [
    "## Simpleks postupak po Nelderu i Meadu"
   ]
  },
  {
   "cell_type": "markdown",
   "metadata": {
    "jupyter": {
     "source_hidden": true
    }
   },
   "source": [
    "- <b>Ulazne veličine</b>:\n",
    "    - <b>x0</b>: početna točka\n",
    "    - <b>f</b>: funkcija cilja\n",
    "    - <b>alfa</b>\n",
    "    - <b>beta</b>\n",
    "    - <b>gama</b>\n",
    "    - <b>epsilon</b>\n"
   ]
  },
  {
   "cell_type": "code",
   "execution_count": 20,
   "metadata": {},
   "outputs": [],
   "source": [
    "def simplex(x0, alfa, beta, gama, epsilon, f):\n",
    "    \n",
    "    #tocke simpleksa\n",
    "    X = []\n",
    "    pomak = 1\n",
    "    for i in len(tocka):\n",
    "        nova_tocka = tocka[:]\n",
    "        nova_tocka[i] += 1\n",
    "        X.append(nova_tocka)\n",
    "        \n",
    "    while True:\n",
    "        h = index_min(X, f)\n",
    "        l = index_max(X, f)\n",
    "        \n",
    "# - CENTROID -\n",
    "def centroid(X, f, h):\n",
    "    tocke = X[:]\n",
    "    del tocke[h]\n",
    "    \n",
    "    \n",
    "        \n",
    "# - MINIMUM I MAKSIMUM FJE CILJA        \n",
    "def index_min(X, f):\n",
    "    i_min = 0\n",
    "    for i in range(len(X)):\n",
    "        if f(X[i]) < f(X[i_min]): i_min = i\n",
    "    return i_min\n",
    " \n",
    "def index_max(X, f):\n",
    "    i_min = 0\n",
    "    for i in range(len(X)):\n",
    "        if f(X[i]) > f(X[i_min]): i_min = i\n",
    "    return i_min"
   ]
  },
  {
   "cell_type": "markdown",
   "metadata": {},
   "source": [
    "## Optimizator"
   ]
  },
  {
   "cell_type": "code",
   "execution_count": 1,
   "metadata": {},
   "outputs": [],
   "source": [
    "class Optimizator:\n",
    "    \n",
    "    def __init__(self, pocetna_tocka, minimum):\n",
    "        self.pocetna_tocka = pocetna_tocka\n",
    "        self.minimum = minimum\n",
    "        self.number_of_evaluations = 0"
   ]
  },
  {
   "cell_type": "markdown",
   "metadata": {},
   "source": [
    "## Funkcije cilja"
   ]
  },
  {
   "cell_type": "code",
   "execution_count": 2,
   "metadata": {},
   "outputs": [],
   "source": [
    "def f1(x):\n",
    "    return 100 * (x[1] - (x[0])^2)^2 + (1 - x[0])^2\n",
    "\n",
    "def f2(x):\n",
    "    return (x[0] - 4)^2 + 4 * (x[1] - 2)^2\n",
    "\n",
    "def f3(x):\n",
    "    result = 0\n",
    "    for i in len(x):\n",
    "        result += (x[i] - i)^2\n",
    "    return result\n",
    "\n",
    "def f4(x):\n",
    "    return abs((x[0] - x[1]) * (x[0] + x[1])) + math.sqrt(x[0]^2 + x[1]^2)\n",
    "\n",
    "def f6(x):\n",
    "    suma = 0\n",
    "    for i in range(len(x)):\n",
    "        suma += x[i]^2\n",
    "    sinus = math.sin(math.sqrt(suma))\n",
    "    razlomak = ((sinus^2) - 0.5) / ((1 + 0.001 * suma)^2)\n",
    "    return 0.5 + razlomak"
   ]
  }
 ],
 "metadata": {
  "kernelspec": {
   "display_name": "Python 3",
   "language": "python",
   "name": "python3"
  },
  "language_info": {
   "codemirror_mode": {
    "name": "ipython",
    "version": 3
   },
   "file_extension": ".py",
   "mimetype": "text/x-python",
   "name": "python",
   "nbconvert_exporter": "python",
   "pygments_lexer": "ipython3",
   "version": "3.8.2"
  }
 },
 "nbformat": 4,
 "nbformat_minor": 4
}
